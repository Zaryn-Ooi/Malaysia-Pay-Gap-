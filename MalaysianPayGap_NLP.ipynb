{
  "nbformat": 4,
  "nbformat_minor": 0,
  "metadata": {
    "colab": {
      "name": "MalaysianPayGap_NLP.ipynb",
      "provenance": [],
      "collapsed_sections": [],
      "include_colab_link": true
    },
    "kernelspec": {
      "name": "python3",
      "display_name": "Python 3"
    },
    "language_info": {
      "name": "python"
    }
  },
  "cells": [
    {
      "cell_type": "markdown",
      "metadata": {
        "id": "view-in-github",
        "colab_type": "text"
      },
      "source": [
        "<a href=\"https://colab.research.google.com/github/Zaryn-Ooi/Malaysia-Pay-Gap-/blob/main/MalaysianPayGap_NLP.ipynb\" target=\"_parent\"><img src=\"https://colab.research.google.com/assets/colab-badge.svg\" alt=\"Open In Colab\"/></a>"
      ]
    },
    {
      "cell_type": "markdown",
      "source": [
        "# Do Malaysians like their job ?\n",
        "Aim: To identify whether most malaysians are satisfied with their work or not with the use of NLP.\n",
        "\n",
        "Data Source: Malaysian Pay Gap Instagram Account\n",
        "\n",
        "Data Content: Text within the images of a post\n"
      ],
      "metadata": {
        "id": "HktZn16CIZLk"
      }
    },
    {
      "cell_type": "code",
      "source": [
        "# Import packages\n",
        "import pandas as pd\n",
        "import numpy as np\n"
      ],
      "metadata": {
        "id": "BEpPZMe0LfZn"
      },
      "execution_count": 1,
      "outputs": []
    },
    {
      "cell_type": "code",
      "source": [
        "# Load data\n",
        "from google.colab import files\n",
        "uploaded = files.upload()"
      ],
      "metadata": {
        "id": "sFCAHcapNA3b",
        "colab": {
          "resources": {
            "http://localhost:8080/nbextensions/google.colab/files.js": {
              "data": "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",
              "ok": true,
              "headers": [
                [
                  "content-type",
                  "application/javascript"
                ]
              ],
              "status": 200,
              "status_text": ""
            }
          },
          "base_uri": "https://localhost:8080/",
          "height": 80
        },
        "outputId": "d64183bc-f028-4cd2-a9c6-73e7ec9c1262"
      },
      "execution_count": 3,
      "outputs": [
        {
          "output_type": "display_data",
          "data": {
            "text/html": [
              "\n",
              "     <input type=\"file\" id=\"files-462c4812-52a6-4a9e-bb10-e22319dd0226\" name=\"files[]\" multiple disabled\n",
              "        style=\"border:none\" />\n",
              "     <output id=\"result-462c4812-52a6-4a9e-bb10-e22319dd0226\">\n",
              "      Upload widget is only available when the cell has been executed in the\n",
              "      current browser session. Please rerun this cell to enable.\n",
              "      </output>\n",
              "      <script src=\"/nbextensions/google.colab/files.js\"></script> "
            ],
            "text/plain": [
              "<IPython.core.display.HTML object>"
            ]
          },
          "metadata": {}
        },
        {
          "output_type": "stream",
          "name": "stdout",
          "text": [
            "Saving posts_text.csv to posts_text.csv\n"
          ]
        }
      ]
    },
    {
      "cell_type": "code",
      "source": [
        "df = pd.read_csv('posts_text.csv')\n",
        "df.head()"
      ],
      "metadata": {
        "colab": {
          "base_uri": "https://localhost:8080/",
          "height": 479
        },
        "id": "BXi7QIV2NRES",
        "outputId": "650e0450-4bd7-41aa-8b4e-4b0c3132654a"
      },
      "execution_count": 4,
      "outputs": [
        {
          "output_type": "execute_result",
          "data": {
            "text/html": [
              "\n",
              "  <div id=\"df-d4c31ec0-1cab-4e51-aecd-d41adba4e955\">\n",
              "    <div class=\"colab-df-container\">\n",
              "      <div>\n",
              "<style scoped>\n",
              "    .dataframe tbody tr th:only-of-type {\n",
              "        vertical-align: middle;\n",
              "    }\n",
              "\n",
              "    .dataframe tbody tr th {\n",
              "        vertical-align: top;\n",
              "    }\n",
              "\n",
              "    .dataframe thead th {\n",
              "        text-align: right;\n",
              "    }\n",
              "</style>\n",
              "<table border=\"1\" class=\"dataframe\">\n",
              "  <thead>\n",
              "    <tr style=\"text-align: right;\">\n",
              "      <th></th>\n",
              "      <th>hashtags</th>\n",
              "      <th>captions</th>\n",
              "      <th>likes</th>\n",
              "      <th>comments</th>\n",
              "      <th>image_ids</th>\n",
              "      <th>image_paths</th>\n",
              "      <th>image_text</th>\n",
              "      <th>Unnamed: 7</th>\n",
              "    </tr>\n",
              "  </thead>\n",
              "  <tbody>\n",
              "    <tr>\n",
              "      <th>0</th>\n",
              "      <td>['#malaysianpaygap']</td>\n",
              "      <td>NaN</td>\n",
              "      <td>205</td>\n",
              "      <td>13</td>\n",
              "      <td>CaTj7N9P64r</td>\n",
              "      <td>/Users/aishapeng/Python/MalaysianPayGap-master...</td>\n",
              "      <td>Senior Sales Engineer in MNC\\ncompany\\n\\n30\\n\\...</td>\n",
              "      <td>610</td>\n",
              "    </tr>\n",
              "    <tr>\n",
              "      <th>1</th>\n",
              "      <td>['#malaysianpaygap']</td>\n",
              "      <td>NaN</td>\n",
              "      <td>154</td>\n",
              "      <td>2</td>\n",
              "      <td>CaTiOpXvF3A</td>\n",
              "      <td>/Users/aishapeng/Python/MalaysianPayGap-master...</td>\n",
              "      <td>Marketing &amp; PR\\n27\\n\\nFemale\\nChinese\\n\\n4 yea...</td>\n",
              "      <td>323</td>\n",
              "    </tr>\n",
              "    <tr>\n",
              "      <th>2</th>\n",
              "      <td>['#malaysianpaygap']</td>\n",
              "      <td>Congratulations on your first job out of uni! ...</td>\n",
              "      <td>149</td>\n",
              "      <td>14</td>\n",
              "      <td>CaUQxjsvuZk</td>\n",
              "      <td>/Users/aishapeng/Python/MalaysianPayGap-master...</td>\n",
              "      <td>Social media executive\\n26\\n\\nFemale\\n\\nMalay\\...</td>\n",
              "      <td>401</td>\n",
              "    </tr>\n",
              "    <tr>\n",
              "      <th>3</th>\n",
              "      <td>['#malaysianpaygap', '#mpgcreative']</td>\n",
              "      <td>Passion-driven career often met with not-so-pa...</td>\n",
              "      <td>674</td>\n",
              "      <td>20</td>\n",
              "      <td>CaY3AMMPCvC</td>\n",
              "      <td>/Users/aishapeng/Python/MalaysianPayGap-master...</td>\n",
              "      <td>Animator\\n\\nin game/ tv series industry\\n26 ch...</td>\n",
              "      <td>158</td>\n",
              "    </tr>\n",
              "    <tr>\n",
              "      <th>4</th>\n",
              "      <td>['#malaysianpaygap', '#mpgcreative']</td>\n",
              "      <td>Passion-driven career often met with not-so-pa...</td>\n",
              "      <td>674</td>\n",
              "      <td>20</td>\n",
              "      <td>CaY3AMMPCvC</td>\n",
              "      <td>/Users/aishapeng/Python/MalaysianPayGap-master...</td>\n",
              "      <td>Started out with RM 2000 as a\\nfresh grad.\\n\\n...</td>\n",
              "      <td>569</td>\n",
              "    </tr>\n",
              "  </tbody>\n",
              "</table>\n",
              "</div>\n",
              "      <button class=\"colab-df-convert\" onclick=\"convertToInteractive('df-d4c31ec0-1cab-4e51-aecd-d41adba4e955')\"\n",
              "              title=\"Convert this dataframe to an interactive table.\"\n",
              "              style=\"display:none;\">\n",
              "        \n",
              "  <svg xmlns=\"http://www.w3.org/2000/svg\" height=\"24px\"viewBox=\"0 0 24 24\"\n",
              "       width=\"24px\">\n",
              "    <path d=\"M0 0h24v24H0V0z\" fill=\"none\"/>\n",
              "    <path d=\"M18.56 5.44l.94 2.06.94-2.06 2.06-.94-2.06-.94-.94-2.06-.94 2.06-2.06.94zm-11 1L8.5 8.5l.94-2.06 2.06-.94-2.06-.94L8.5 2.5l-.94 2.06-2.06.94zm10 10l.94 2.06.94-2.06 2.06-.94-2.06-.94-.94-2.06-.94 2.06-2.06.94z\"/><path d=\"M17.41 7.96l-1.37-1.37c-.4-.4-.92-.59-1.43-.59-.52 0-1.04.2-1.43.59L10.3 9.45l-7.72 7.72c-.78.78-.78 2.05 0 2.83L4 21.41c.39.39.9.59 1.41.59.51 0 1.02-.2 1.41-.59l7.78-7.78 2.81-2.81c.8-.78.8-2.07 0-2.86zM5.41 20L4 18.59l7.72-7.72 1.47 1.35L5.41 20z\"/>\n",
              "  </svg>\n",
              "      </button>\n",
              "      \n",
              "  <style>\n",
              "    .colab-df-container {\n",
              "      display:flex;\n",
              "      flex-wrap:wrap;\n",
              "      gap: 12px;\n",
              "    }\n",
              "\n",
              "    .colab-df-convert {\n",
              "      background-color: #E8F0FE;\n",
              "      border: none;\n",
              "      border-radius: 50%;\n",
              "      cursor: pointer;\n",
              "      display: none;\n",
              "      fill: #1967D2;\n",
              "      height: 32px;\n",
              "      padding: 0 0 0 0;\n",
              "      width: 32px;\n",
              "    }\n",
              "\n",
              "    .colab-df-convert:hover {\n",
              "      background-color: #E2EBFA;\n",
              "      box-shadow: 0px 1px 2px rgba(60, 64, 67, 0.3), 0px 1px 3px 1px rgba(60, 64, 67, 0.15);\n",
              "      fill: #174EA6;\n",
              "    }\n",
              "\n",
              "    [theme=dark] .colab-df-convert {\n",
              "      background-color: #3B4455;\n",
              "      fill: #D2E3FC;\n",
              "    }\n",
              "\n",
              "    [theme=dark] .colab-df-convert:hover {\n",
              "      background-color: #434B5C;\n",
              "      box-shadow: 0px 1px 3px 1px rgba(0, 0, 0, 0.15);\n",
              "      filter: drop-shadow(0px 1px 2px rgba(0, 0, 0, 0.3));\n",
              "      fill: #FFFFFF;\n",
              "    }\n",
              "  </style>\n",
              "\n",
              "      <script>\n",
              "        const buttonEl =\n",
              "          document.querySelector('#df-d4c31ec0-1cab-4e51-aecd-d41adba4e955 button.colab-df-convert');\n",
              "        buttonEl.style.display =\n",
              "          google.colab.kernel.accessAllowed ? 'block' : 'none';\n",
              "\n",
              "        async function convertToInteractive(key) {\n",
              "          const element = document.querySelector('#df-d4c31ec0-1cab-4e51-aecd-d41adba4e955');\n",
              "          const dataTable =\n",
              "            await google.colab.kernel.invokeFunction('convertToInteractive',\n",
              "                                                     [key], {});\n",
              "          if (!dataTable) return;\n",
              "\n",
              "          const docLinkHtml = 'Like what you see? Visit the ' +\n",
              "            '<a target=\"_blank\" href=https://colab.research.google.com/notebooks/data_table.ipynb>data table notebook</a>'\n",
              "            + ' to learn more about interactive tables.';\n",
              "          element.innerHTML = '';\n",
              "          dataTable['output_type'] = 'display_data';\n",
              "          await google.colab.output.renderOutput(dataTable, element);\n",
              "          const docLink = document.createElement('div');\n",
              "          docLink.innerHTML = docLinkHtml;\n",
              "          element.appendChild(docLink);\n",
              "        }\n",
              "      </script>\n",
              "    </div>\n",
              "  </div>\n",
              "  "
            ],
            "text/plain": [
              "                               hashtags  \\\n",
              "0                  ['#malaysianpaygap']   \n",
              "1                  ['#malaysianpaygap']   \n",
              "2                  ['#malaysianpaygap']   \n",
              "3  ['#malaysianpaygap', '#mpgcreative']   \n",
              "4  ['#malaysianpaygap', '#mpgcreative']   \n",
              "\n",
              "                                            captions  likes  comments  \\\n",
              "0                                                NaN    205        13   \n",
              "1                                                NaN    154         2   \n",
              "2  Congratulations on your first job out of uni! ...    149        14   \n",
              "3  Passion-driven career often met with not-so-pa...    674        20   \n",
              "4  Passion-driven career often met with not-so-pa...    674        20   \n",
              "\n",
              "     image_ids                                        image_paths  \\\n",
              "0  CaTj7N9P64r  /Users/aishapeng/Python/MalaysianPayGap-master...   \n",
              "1  CaTiOpXvF3A  /Users/aishapeng/Python/MalaysianPayGap-master...   \n",
              "2  CaUQxjsvuZk  /Users/aishapeng/Python/MalaysianPayGap-master...   \n",
              "3  CaY3AMMPCvC  /Users/aishapeng/Python/MalaysianPayGap-master...   \n",
              "4  CaY3AMMPCvC  /Users/aishapeng/Python/MalaysianPayGap-master...   \n",
              "\n",
              "                                          image_text  Unnamed: 7  \n",
              "0  Senior Sales Engineer in MNC\\ncompany\\n\\n30\\n\\...         610  \n",
              "1  Marketing & PR\\n27\\n\\nFemale\\nChinese\\n\\n4 yea...         323  \n",
              "2  Social media executive\\n26\\n\\nFemale\\n\\nMalay\\...         401  \n",
              "3  Animator\\n\\nin game/ tv series industry\\n26 ch...         158  \n",
              "4  Started out with RM 2000 as a\\nfresh grad.\\n\\n...         569  "
            ]
          },
          "metadata": {},
          "execution_count": 4
        }
      ]
    },
    {
      "cell_type": "code",
      "source": [
        "len(df)"
      ],
      "metadata": {
        "colab": {
          "base_uri": "https://localhost:8080/"
        },
        "id": "lGWIb_bFNjIw",
        "outputId": "988223ef-adfe-485b-ce7e-e7a019ba47d2"
      },
      "execution_count": 5,
      "outputs": [
        {
          "output_type": "execute_result",
          "data": {
            "text/plain": [
              "218"
            ]
          },
          "metadata": {},
          "execution_count": 5
        }
      ]
    },
    {
      "cell_type": "code",
      "source": [
        "# Detect and remove NaN values \n",
        "df.isnull().sum()"
      ],
      "metadata": {
        "colab": {
          "base_uri": "https://localhost:8080/"
        },
        "id": "RFYi3Tk9N7Zh",
        "outputId": "245032c2-6afc-46ef-e3b3-f4f23adff8b4"
      },
      "execution_count": 7,
      "outputs": [
        {
          "output_type": "execute_result",
          "data": {
            "text/plain": [
              "hashtags        0\n",
              "captions       20\n",
              "likes           0\n",
              "comments        0\n",
              "image_ids       0\n",
              "image_paths     0\n",
              "image_text      0\n",
              "Unnamed: 7      0\n",
              "dtype: int64"
            ]
          },
          "metadata": {},
          "execution_count": 7
        }
      ]
    },
    {
      "cell_type": "markdown",
      "source": [
        "We're only looking if there is null values in the image_text. Since there is no null values in the image_text column, we do not need to remove anything. "
      ],
      "metadata": {
        "id": "zjw1xXHIeIeq"
      }
    },
    {
      "cell_type": "code",
      "source": [
        "# Detect duplicated rows\n",
        "df.duplicated().sum()"
      ],
      "metadata": {
        "colab": {
          "base_uri": "https://localhost:8080/"
        },
        "id": "zscvGnhMOSuf",
        "outputId": "c002be3c-0473-4286-cfc2-ef4a9c93d1a9"
      },
      "execution_count": 8,
      "outputs": [
        {
          "output_type": "execute_result",
          "data": {
            "text/plain": [
              "0"
            ]
          },
          "metadata": {},
          "execution_count": 8
        }
      ]
    },
    {
      "cell_type": "code",
      "source": [
        "df.columns"
      ],
      "metadata": {
        "colab": {
          "base_uri": "https://localhost:8080/"
        },
        "id": "OjX5A5MQOw4d",
        "outputId": "e9ea9a4d-fc5e-48ef-eae0-afca90e01fde"
      },
      "execution_count": 9,
      "outputs": [
        {
          "output_type": "execute_result",
          "data": {
            "text/plain": [
              "Index(['hashtags', 'captions', 'likes', 'comments', 'image_ids', 'image_paths',\n",
              "       'image_text', 'Unnamed: 7'],\n",
              "      dtype='object')"
            ]
          },
          "metadata": {},
          "execution_count": 9
        }
      ]
    },
    {
      "cell_type": "markdown",
      "source": [
        "## Data Cleaning"
      ],
      "metadata": {
        "id": "U30MU1hyTrKj"
      }
    },
    {
      "cell_type": "code",
      "source": [
        "# Find the number of unique image id\n",
        "num_of_image = len(df['image_ids'].unique())\n",
        "num_of_image"
      ],
      "metadata": {
        "colab": {
          "base_uri": "https://localhost:8080/"
        },
        "id": "7bT1seOHO6E3",
        "outputId": "30fc0321-c47d-49fa-b36e-623f53130fdc"
      },
      "execution_count": 10,
      "outputs": [
        {
          "output_type": "execute_result",
          "data": {
            "text/plain": [
              "156"
            ]
          },
          "metadata": {},
          "execution_count": 10
        }
      ]
    },
    {
      "cell_type": "code",
      "source": [
        "# Concatenate rows with same image id, and make image id as index\n",
        "df = df.groupby('image_ids',as_index=True).agg(lambda x: x.tolist())"
      ],
      "metadata": {
        "id": "Swvl3pi6SnY4"
      },
      "execution_count": 11,
      "outputs": []
    },
    {
      "cell_type": "code",
      "source": [
        "len(df)"
      ],
      "metadata": {
        "colab": {
          "base_uri": "https://localhost:8080/"
        },
        "id": "NcFQ5QD5S25E",
        "outputId": "1b843497-5cf6-4620-b3ff-19e54b1fdc94"
      },
      "execution_count": 12,
      "outputs": [
        {
          "output_type": "execute_result",
          "data": {
            "text/plain": [
              "156"
            ]
          },
          "metadata": {},
          "execution_count": 12
        }
      ]
    },
    {
      "cell_type": "markdown",
      "source": [
        "We realised that there are 218 rows of data, however there are only 156 unique image id. This means that some of the posts(image id) have multiple images. Hence, we combined rows with the same image id. Now, there is no more duplicated image id. "
      ],
      "metadata": {
        "id": "Ne03bLLhTILu"
      }
    },
    {
      "cell_type": "code",
      "source": [
        "# Combine multiple lists into one list\n",
        "df['image_text'] = df['image_text'].apply(lambda image_text: \" \".join(image_text))"
      ],
      "metadata": {
        "id": "xXi3P4UcnGZe"
      },
      "execution_count": 13,
      "outputs": []
    },
    {
      "cell_type": "code",
      "source": [
        "# Remove every last word of the image_text \n",
        "df['image_text']= df['image_text'].apply(lambda image_text: \" \".join(image_text.split()[:-2]))"
      ],
      "metadata": {
        "id": "vuLLrFC7e7EG"
      },
      "execution_count": 14,
      "outputs": []
    },
    {
      "cell_type": "markdown",
      "source": [
        "## Named Entity Recognition (NER)\n"
      ],
      "metadata": {
        "id": "WHlMwR8xVdJy"
      }
    },
    {
      "cell_type": "code",
      "source": [
        "#import spacy\n",
        "#nlp = spacy.load('en_core_web_sm')"
      ],
      "metadata": {
        "id": "o5nt4nrOVkVa"
      },
      "execution_count": null,
      "outputs": []
    },
    {
      "cell_type": "code",
      "source": [
        "# Write a function to display basic entity info:\n",
        "# def show_ents(df):\n",
        "#    if df.ents:  # if it has named entities\n",
        "#        for ent in df.ents:\n",
        "#            print(ent.text+' - '+ent.label_+' - '+str(spacy.explain(ent.label_)))\n",
        "#    else:\n",
        "#        print('No named entities found.')"
      ],
      "metadata": {
        "id": "HlJsMCExVw3J"
      },
      "execution_count": null,
      "outputs": []
    },
    {
      "cell_type": "markdown",
      "source": [
        "## Sentiment Analysis "
      ],
      "metadata": {
        "id": "u4IbVWY5WrkK"
      }
    },
    {
      "cell_type": "code",
      "source": [
        "import nltk\n",
        "nltk.download('vader_lexicon')"
      ],
      "metadata": {
        "colab": {
          "base_uri": "https://localhost:8080/"
        },
        "id": "coE4bhh9X6Yu",
        "outputId": "d5f49c17-b41f-4757-f4c7-8d811b97036e"
      },
      "execution_count": null,
      "outputs": [
        {
          "output_type": "stream",
          "name": "stdout",
          "text": [
            "[nltk_data] Downloading package vader_lexicon to /root/nltk_data...\n",
            "[nltk_data]   Package vader_lexicon is already up-to-date!\n"
          ]
        },
        {
          "output_type": "execute_result",
          "data": {
            "text/plain": [
              "True"
            ]
          },
          "metadata": {},
          "execution_count": 212
        }
      ]
    },
    {
      "cell_type": "code",
      "source": [
        "# Import SentimentIntensityAnalyzer and create an sid object\n",
        "from nltk.sentiment.vader import SentimentIntensityAnalyzer\n",
        "\n",
        "sid = SentimentIntensityAnalyzer()"
      ],
      "metadata": {
        "id": "kD1Qq2RZWBfT"
      },
      "execution_count": null,
      "outputs": []
    },
    {
      "cell_type": "code",
      "source": [
        "# Use sid to append a comp_score to the dataset\n",
        "df['scores'] = df['image_text'].apply(lambda image_text:sid.polarity_scores(image_text))\n",
        "\n",
        "df['compound'] = df['scores'].apply(lambda score_dict: score_dict['compound'])\n",
        "\n",
        "df['comp_score'] = df['compound'].apply(lambda c: 'satisfied' if c>= 0.5 else 'neutral' if c>=0.1 else 'dissatisfied')\n",
        "\n",
        "df.head()"
      ],
      "metadata": {
        "colab": {
          "base_uri": "https://localhost:8080/",
          "height": 472
        },
        "id": "cQ46Zpz-Y45F",
        "outputId": "f589dd6a-b4cd-4f6a-ce4c-7d06cfde9f14"
      },
      "execution_count": null,
      "outputs": [
        {
          "output_type": "execute_result",
          "data": {
            "text/html": [
              "\n",
              "  <div id=\"df-bc6b28f7-1ccb-4dd5-9e6b-7138a475c4ec\">\n",
              "    <div class=\"colab-df-container\">\n",
              "      <div>\n",
              "<style scoped>\n",
              "    .dataframe tbody tr th:only-of-type {\n",
              "        vertical-align: middle;\n",
              "    }\n",
              "\n",
              "    .dataframe tbody tr th {\n",
              "        vertical-align: top;\n",
              "    }\n",
              "\n",
              "    .dataframe thead th {\n",
              "        text-align: right;\n",
              "    }\n",
              "</style>\n",
              "<table border=\"1\" class=\"dataframe\">\n",
              "  <thead>\n",
              "    <tr style=\"text-align: right;\">\n",
              "      <th></th>\n",
              "      <th>hashtags</th>\n",
              "      <th>captions</th>\n",
              "      <th>likes</th>\n",
              "      <th>comments</th>\n",
              "      <th>image_paths</th>\n",
              "      <th>image_text</th>\n",
              "      <th>scores</th>\n",
              "      <th>compound</th>\n",
              "      <th>comp_score</th>\n",
              "    </tr>\n",
              "    <tr>\n",
              "      <th>image_ids</th>\n",
              "      <th></th>\n",
              "      <th></th>\n",
              "      <th></th>\n",
              "      <th></th>\n",
              "      <th></th>\n",
              "      <th></th>\n",
              "      <th></th>\n",
              "      <th></th>\n",
              "      <th></th>\n",
              "    </tr>\n",
              "  </thead>\n",
              "  <tbody>\n",
              "    <tr>\n",
              "      <th>Ca0ueFAPokI</th>\n",
              "      <td>[['#malaysianpaygap', '#mpghealthcare'], ['#ma...</td>\n",
              "      <td>[Our society is filled with so many different ...</td>\n",
              "      <td>[1547, 1547]</td>\n",
              "      <td>[17, 17]</td>\n",
              "      <td>[/Users/aishapeng/Python/MalaysianPayGap-maste...</td>\n",
              "      <td>Behaviour Therapist (ABA Therapy) Workng w chi...</td>\n",
              "      <td>{'neg': 0.061, 'neu': 0.795, 'pos': 0.144, 'co...</td>\n",
              "      <td>0.9304</td>\n",
              "      <td>satisfied</td>\n",
              "    </tr>\n",
              "    <tr>\n",
              "      <th>CaRp-1uPh8l</th>\n",
              "      <td>[['#malaysianpaygap']]</td>\n",
              "      <td>[nan]</td>\n",
              "      <td>[1109]</td>\n",
              "      <td>[2]</td>\n",
              "      <td>[/Users/aishapeng/Python/MalaysianPayGap-maste...</td>\n",
              "      <td>MALAYSIA'S MEDIAN SALARY LW 19 bY a bY BELOW T...</td>\n",
              "      <td>{'neg': 0.0, 'neu': 1.0, 'pos': 0.0, 'compound...</td>\n",
              "      <td>0.0000</td>\n",
              "      <td>dissatisfied</td>\n",
              "    </tr>\n",
              "    <tr>\n",
              "      <th>CaT5MguPpDI</th>\n",
              "      <td>[['#malaysianpaygap']]</td>\n",
              "      <td>[Earning only stable currencies is on everyone...</td>\n",
              "      <td>[244]</td>\n",
              "      <td>[18]</td>\n",
              "      <td>[/Users/aishapeng/Python/MalaysianPayGap-maste...</td>\n",
              "      <td>Director 32 Male Chinese 9 years Bachelors 5-1...</td>\n",
              "      <td>{'neg': 0.071, 'neu': 0.78, 'pos': 0.149, 'com...</td>\n",
              "      <td>0.9168</td>\n",
              "      <td>satisfied</td>\n",
              "    </tr>\n",
              "    <tr>\n",
              "      <th>CaT6d2Yve5X</th>\n",
              "      <td>[['#malaysianpaygap']]</td>\n",
              "      <td>[The many forms of wage theft in local work sc...</td>\n",
              "      <td>[327]</td>\n",
              "      <td>[10]</td>\n",
              "      <td>[/Users/aishapeng/Python/MalaysianPayGap-maste...</td>\n",
              "      <td>IT (Healthcare / Cybersecurity) 45 Malay RM8k ...</td>\n",
              "      <td>{'neg': 0.064, 'neu': 0.879, 'pos': 0.057, 'co...</td>\n",
              "      <td>0.0516</td>\n",
              "      <td>dissatisfied</td>\n",
              "    </tr>\n",
              "    <tr>\n",
              "      <th>CaTg8Ijvcsw</th>\n",
              "      <td>[['#malaysianpaygap']]</td>\n",
              "      <td>[nan]</td>\n",
              "      <td>[191]</td>\n",
              "      <td>[4]</td>\n",
              "      <td>[/Users/aishapeng/Python/MalaysianPayGap-maste...</td>\n",
              "      <td>PR/Marketing in NGO sector 28 Female Malay 6 y...</td>\n",
              "      <td>{'neg': 0.053, 'neu': 0.806, 'pos': 0.141, 'co...</td>\n",
              "      <td>0.7842</td>\n",
              "      <td>satisfied</td>\n",
              "    </tr>\n",
              "  </tbody>\n",
              "</table>\n",
              "</div>\n",
              "      <button class=\"colab-df-convert\" onclick=\"convertToInteractive('df-bc6b28f7-1ccb-4dd5-9e6b-7138a475c4ec')\"\n",
              "              title=\"Convert this dataframe to an interactive table.\"\n",
              "              style=\"display:none;\">\n",
              "        \n",
              "  <svg xmlns=\"http://www.w3.org/2000/svg\" height=\"24px\"viewBox=\"0 0 24 24\"\n",
              "       width=\"24px\">\n",
              "    <path d=\"M0 0h24v24H0V0z\" fill=\"none\"/>\n",
              "    <path d=\"M18.56 5.44l.94 2.06.94-2.06 2.06-.94-2.06-.94-.94-2.06-.94 2.06-2.06.94zm-11 1L8.5 8.5l.94-2.06 2.06-.94-2.06-.94L8.5 2.5l-.94 2.06-2.06.94zm10 10l.94 2.06.94-2.06 2.06-.94-2.06-.94-.94-2.06-.94 2.06-2.06.94z\"/><path d=\"M17.41 7.96l-1.37-1.37c-.4-.4-.92-.59-1.43-.59-.52 0-1.04.2-1.43.59L10.3 9.45l-7.72 7.72c-.78.78-.78 2.05 0 2.83L4 21.41c.39.39.9.59 1.41.59.51 0 1.02-.2 1.41-.59l7.78-7.78 2.81-2.81c.8-.78.8-2.07 0-2.86zM5.41 20L4 18.59l7.72-7.72 1.47 1.35L5.41 20z\"/>\n",
              "  </svg>\n",
              "      </button>\n",
              "      \n",
              "  <style>\n",
              "    .colab-df-container {\n",
              "      display:flex;\n",
              "      flex-wrap:wrap;\n",
              "      gap: 12px;\n",
              "    }\n",
              "\n",
              "    .colab-df-convert {\n",
              "      background-color: #E8F0FE;\n",
              "      border: none;\n",
              "      border-radius: 50%;\n",
              "      cursor: pointer;\n",
              "      display: none;\n",
              "      fill: #1967D2;\n",
              "      height: 32px;\n",
              "      padding: 0 0 0 0;\n",
              "      width: 32px;\n",
              "    }\n",
              "\n",
              "    .colab-df-convert:hover {\n",
              "      background-color: #E2EBFA;\n",
              "      box-shadow: 0px 1px 2px rgba(60, 64, 67, 0.3), 0px 1px 3px 1px rgba(60, 64, 67, 0.15);\n",
              "      fill: #174EA6;\n",
              "    }\n",
              "\n",
              "    [theme=dark] .colab-df-convert {\n",
              "      background-color: #3B4455;\n",
              "      fill: #D2E3FC;\n",
              "    }\n",
              "\n",
              "    [theme=dark] .colab-df-convert:hover {\n",
              "      background-color: #434B5C;\n",
              "      box-shadow: 0px 1px 3px 1px rgba(0, 0, 0, 0.15);\n",
              "      filter: drop-shadow(0px 1px 2px rgba(0, 0, 0, 0.3));\n",
              "      fill: #FFFFFF;\n",
              "    }\n",
              "  </style>\n",
              "\n",
              "      <script>\n",
              "        const buttonEl =\n",
              "          document.querySelector('#df-bc6b28f7-1ccb-4dd5-9e6b-7138a475c4ec button.colab-df-convert');\n",
              "        buttonEl.style.display =\n",
              "          google.colab.kernel.accessAllowed ? 'block' : 'none';\n",
              "\n",
              "        async function convertToInteractive(key) {\n",
              "          const element = document.querySelector('#df-bc6b28f7-1ccb-4dd5-9e6b-7138a475c4ec');\n",
              "          const dataTable =\n",
              "            await google.colab.kernel.invokeFunction('convertToInteractive',\n",
              "                                                     [key], {});\n",
              "          if (!dataTable) return;\n",
              "\n",
              "          const docLinkHtml = 'Like what you see? Visit the ' +\n",
              "            '<a target=\"_blank\" href=https://colab.research.google.com/notebooks/data_table.ipynb>data table notebook</a>'\n",
              "            + ' to learn more about interactive tables.';\n",
              "          element.innerHTML = '';\n",
              "          dataTable['output_type'] = 'display_data';\n",
              "          await google.colab.output.renderOutput(dataTable, element);\n",
              "          const docLink = document.createElement('div');\n",
              "          docLink.innerHTML = docLinkHtml;\n",
              "          element.appendChild(docLink);\n",
              "        }\n",
              "      </script>\n",
              "    </div>\n",
              "  </div>\n",
              "  "
            ],
            "text/plain": [
              "                                                      hashtags  \\\n",
              "image_ids                                                        \n",
              "Ca0ueFAPokI  [['#malaysianpaygap', '#mpghealthcare'], ['#ma...   \n",
              "CaRp-1uPh8l                             [['#malaysianpaygap']]   \n",
              "CaT5MguPpDI                             [['#malaysianpaygap']]   \n",
              "CaT6d2Yve5X                             [['#malaysianpaygap']]   \n",
              "CaTg8Ijvcsw                             [['#malaysianpaygap']]   \n",
              "\n",
              "                                                      captions         likes  \\\n",
              "image_ids                                                                      \n",
              "Ca0ueFAPokI  [Our society is filled with so many different ...  [1547, 1547]   \n",
              "CaRp-1uPh8l                                              [nan]        [1109]   \n",
              "CaT5MguPpDI  [Earning only stable currencies is on everyone...         [244]   \n",
              "CaT6d2Yve5X  [The many forms of wage theft in local work sc...         [327]   \n",
              "CaTg8Ijvcsw                                              [nan]         [191]   \n",
              "\n",
              "             comments                                        image_paths  \\\n",
              "image_ids                                                                  \n",
              "Ca0ueFAPokI  [17, 17]  [/Users/aishapeng/Python/MalaysianPayGap-maste...   \n",
              "CaRp-1uPh8l       [2]  [/Users/aishapeng/Python/MalaysianPayGap-maste...   \n",
              "CaT5MguPpDI      [18]  [/Users/aishapeng/Python/MalaysianPayGap-maste...   \n",
              "CaT6d2Yve5X      [10]  [/Users/aishapeng/Python/MalaysianPayGap-maste...   \n",
              "CaTg8Ijvcsw       [4]  [/Users/aishapeng/Python/MalaysianPayGap-maste...   \n",
              "\n",
              "                                                    image_text  \\\n",
              "image_ids                                                        \n",
              "Ca0ueFAPokI  Behaviour Therapist (ABA Therapy) Workng w chi...   \n",
              "CaRp-1uPh8l  MALAYSIA'S MEDIAN SALARY LW 19 bY a bY BELOW T...   \n",
              "CaT5MguPpDI  Director 32 Male Chinese 9 years Bachelors 5-1...   \n",
              "CaT6d2Yve5X  IT (Healthcare / Cybersecurity) 45 Malay RM8k ...   \n",
              "CaTg8Ijvcsw  PR/Marketing in NGO sector 28 Female Malay 6 y...   \n",
              "\n",
              "                                                        scores  compound  \\\n",
              "image_ids                                                                  \n",
              "Ca0ueFAPokI  {'neg': 0.061, 'neu': 0.795, 'pos': 0.144, 'co...    0.9304   \n",
              "CaRp-1uPh8l  {'neg': 0.0, 'neu': 1.0, 'pos': 0.0, 'compound...    0.0000   \n",
              "CaT5MguPpDI  {'neg': 0.071, 'neu': 0.78, 'pos': 0.149, 'com...    0.9168   \n",
              "CaT6d2Yve5X  {'neg': 0.064, 'neu': 0.879, 'pos': 0.057, 'co...    0.0516   \n",
              "CaTg8Ijvcsw  {'neg': 0.053, 'neu': 0.806, 'pos': 0.141, 'co...    0.7842   \n",
              "\n",
              "               comp_score  \n",
              "image_ids                  \n",
              "Ca0ueFAPokI     satisfied  \n",
              "CaRp-1uPh8l  dissatisfied  \n",
              "CaT5MguPpDI     satisfied  \n",
              "CaT6d2Yve5X  dissatisfied  \n",
              "CaTg8Ijvcsw     satisfied  "
            ]
          },
          "metadata": {},
          "execution_count": 215
        }
      ]
    },
    {
      "cell_type": "code",
      "source": [
        "df['comp_score'].value_counts()"
      ],
      "metadata": {
        "colab": {
          "base_uri": "https://localhost:8080/"
        },
        "id": "Q75-dXnzb4Ca",
        "outputId": "6d54bae2-3aec-4cc3-9ae2-7c7b4986c3e2"
      },
      "execution_count": null,
      "outputs": [
        {
          "output_type": "execute_result",
          "data": {
            "text/plain": [
              "satisfied       81\n",
              "dissatisfied    58\n",
              "neutral         17\n",
              "Name: comp_score, dtype: int64"
            ]
          },
          "metadata": {},
          "execution_count": 216
        }
      ]
    },
    {
      "cell_type": "code",
      "source": [
        "# display percentage \n",
        "df['comp_score'].value_counts(normalize = True)"
      ],
      "metadata": {
        "colab": {
          "base_uri": "https://localhost:8080/"
        },
        "id": "e5y073WnhZyn",
        "outputId": "ac6d9a35-6550-4e27-901a-b3312c7db66b"
      },
      "execution_count": null,
      "outputs": [
        {
          "output_type": "execute_result",
          "data": {
            "text/plain": [
              "satisfied       0.519231\n",
              "dissatisfied    0.371795\n",
              "neutral         0.108974\n",
              "Name: comp_score, dtype: float64"
            ]
          },
          "metadata": {},
          "execution_count": 217
        }
      ]
    },
    {
      "cell_type": "markdown",
      "source": [
        "Based on the sentiment analysis , it shows that 50% of Malaysians are satisfied with their work. However, we need to further explore to see if this is true. "
      ],
      "metadata": {
        "id": "MjN9M8AAguQr"
      }
    },
    {
      "cell_type": "code",
      "source": [
        "# display how satisfied jobs looks like\n",
        "dissatisfied = df.loc[df['comp_score'] == 'dissatisfied']\n",
        "dissatisfied.head()"
      ],
      "metadata": {
        "colab": {
          "base_uri": "https://localhost:8080/",
          "height": 455
        },
        "id": "n8lTKddYcNEd",
        "outputId": "d1a02a8e-f3ae-4899-cd9a-c745c4830b87"
      },
      "execution_count": null,
      "outputs": [
        {
          "output_type": "execute_result",
          "data": {
            "text/html": [
              "\n",
              "  <div id=\"df-9fc6b507-0705-4a37-8acb-f581ae4241dc\">\n",
              "    <div class=\"colab-df-container\">\n",
              "      <div>\n",
              "<style scoped>\n",
              "    .dataframe tbody tr th:only-of-type {\n",
              "        vertical-align: middle;\n",
              "    }\n",
              "\n",
              "    .dataframe tbody tr th {\n",
              "        vertical-align: top;\n",
              "    }\n",
              "\n",
              "    .dataframe thead th {\n",
              "        text-align: right;\n",
              "    }\n",
              "</style>\n",
              "<table border=\"1\" class=\"dataframe\">\n",
              "  <thead>\n",
              "    <tr style=\"text-align: right;\">\n",
              "      <th></th>\n",
              "      <th>hashtags</th>\n",
              "      <th>captions</th>\n",
              "      <th>likes</th>\n",
              "      <th>comments</th>\n",
              "      <th>image_paths</th>\n",
              "      <th>image_text</th>\n",
              "      <th>scores</th>\n",
              "      <th>compound</th>\n",
              "      <th>comp_score</th>\n",
              "    </tr>\n",
              "    <tr>\n",
              "      <th>image_ids</th>\n",
              "      <th></th>\n",
              "      <th></th>\n",
              "      <th></th>\n",
              "      <th></th>\n",
              "      <th></th>\n",
              "      <th></th>\n",
              "      <th></th>\n",
              "      <th></th>\n",
              "      <th></th>\n",
              "    </tr>\n",
              "  </thead>\n",
              "  <tbody>\n",
              "    <tr>\n",
              "      <th>CaRp-1uPh8l</th>\n",
              "      <td>[['#malaysianpaygap']]</td>\n",
              "      <td>[nan]</td>\n",
              "      <td>[1109]</td>\n",
              "      <td>[2]</td>\n",
              "      <td>[/Users/aishapeng/Python/MalaysianPayGap-maste...</td>\n",
              "      <td>MALAYSIA'S MEDIAN SALARY LW 19 bY a bY BELOW T...</td>\n",
              "      <td>{'neg': 0.0, 'neu': 1.0, 'pos': 0.0, 'compound...</td>\n",
              "      <td>0.0000</td>\n",
              "      <td>dissatisfied</td>\n",
              "    </tr>\n",
              "    <tr>\n",
              "      <th>CaT6d2Yve5X</th>\n",
              "      <td>[['#malaysianpaygap']]</td>\n",
              "      <td>[The many forms of wage theft in local work sc...</td>\n",
              "      <td>[327]</td>\n",
              "      <td>[10]</td>\n",
              "      <td>[/Users/aishapeng/Python/MalaysianPayGap-maste...</td>\n",
              "      <td>IT (Healthcare / Cybersecurity) 45 Malay RM8k ...</td>\n",
              "      <td>{'neg': 0.064, 'neu': 0.879, 'pos': 0.057, 'co...</td>\n",
              "      <td>0.0516</td>\n",
              "      <td>dissatisfied</td>\n",
              "    </tr>\n",
              "    <tr>\n",
              "      <th>CaTh3SgvnI5</th>\n",
              "      <td>[['#malaysianpaygap']]</td>\n",
              "      <td>[nan]</td>\n",
              "      <td>[118]</td>\n",
              "      <td>[17]</td>\n",
              "      <td>[/Users/aishapeng/Python/MalaysianPayGap-maste...</td>\n",
              "      <td>Project Engineer in Food manufacturing Industr...</td>\n",
              "      <td>{'neg': 0.148, 'neu': 0.852, 'pos': 0.0, 'comp...</td>\n",
              "      <td>-0.7736</td>\n",
              "      <td>dissatisfied</td>\n",
              "    </tr>\n",
              "    <tr>\n",
              "      <th>CaThAfwP7Nc</th>\n",
              "      <td>[['#malaysianpaygap']]</td>\n",
              "      <td>[nan]</td>\n",
              "      <td>[240]</td>\n",
              "      <td>[20]</td>\n",
              "      <td>[/Users/aishapeng/Python/MalaysianPayGap-maste...</td>\n",
              "      <td>Senior Barista in F&amp;B 25 2 years experience 2....</td>\n",
              "      <td>{'neg': 0.134, 'neu': 0.783, 'pos': 0.083, 'co...</td>\n",
              "      <td>-0.2075</td>\n",
              "      <td>dissatisfied</td>\n",
              "    </tr>\n",
              "    <tr>\n",
              "      <th>CaThuNHvOiu</th>\n",
              "      <td>[['#malaysianpaygap']]</td>\n",
              "      <td>[nan]</td>\n",
              "      <td>[61]</td>\n",
              "      <td>[2]</td>\n",
              "      <td>[/Users/aishapeng/Python/MalaysianPayGap-maste...</td>\n",
              "      <td>Senior Finance Logistics 28 Indian 5 years Rm4...</td>\n",
              "      <td>{'neg': 0.0, 'neu': 1.0, 'pos': 0.0, 'compound...</td>\n",
              "      <td>0.0000</td>\n",
              "      <td>dissatisfied</td>\n",
              "    </tr>\n",
              "  </tbody>\n",
              "</table>\n",
              "</div>\n",
              "      <button class=\"colab-df-convert\" onclick=\"convertToInteractive('df-9fc6b507-0705-4a37-8acb-f581ae4241dc')\"\n",
              "              title=\"Convert this dataframe to an interactive table.\"\n",
              "              style=\"display:none;\">\n",
              "        \n",
              "  <svg xmlns=\"http://www.w3.org/2000/svg\" height=\"24px\"viewBox=\"0 0 24 24\"\n",
              "       width=\"24px\">\n",
              "    <path d=\"M0 0h24v24H0V0z\" fill=\"none\"/>\n",
              "    <path d=\"M18.56 5.44l.94 2.06.94-2.06 2.06-.94-2.06-.94-.94-2.06-.94 2.06-2.06.94zm-11 1L8.5 8.5l.94-2.06 2.06-.94-2.06-.94L8.5 2.5l-.94 2.06-2.06.94zm10 10l.94 2.06.94-2.06 2.06-.94-2.06-.94-.94-2.06-.94 2.06-2.06.94z\"/><path d=\"M17.41 7.96l-1.37-1.37c-.4-.4-.92-.59-1.43-.59-.52 0-1.04.2-1.43.59L10.3 9.45l-7.72 7.72c-.78.78-.78 2.05 0 2.83L4 21.41c.39.39.9.59 1.41.59.51 0 1.02-.2 1.41-.59l7.78-7.78 2.81-2.81c.8-.78.8-2.07 0-2.86zM5.41 20L4 18.59l7.72-7.72 1.47 1.35L5.41 20z\"/>\n",
              "  </svg>\n",
              "      </button>\n",
              "      \n",
              "  <style>\n",
              "    .colab-df-container {\n",
              "      display:flex;\n",
              "      flex-wrap:wrap;\n",
              "      gap: 12px;\n",
              "    }\n",
              "\n",
              "    .colab-df-convert {\n",
              "      background-color: #E8F0FE;\n",
              "      border: none;\n",
              "      border-radius: 50%;\n",
              "      cursor: pointer;\n",
              "      display: none;\n",
              "      fill: #1967D2;\n",
              "      height: 32px;\n",
              "      padding: 0 0 0 0;\n",
              "      width: 32px;\n",
              "    }\n",
              "\n",
              "    .colab-df-convert:hover {\n",
              "      background-color: #E2EBFA;\n",
              "      box-shadow: 0px 1px 2px rgba(60, 64, 67, 0.3), 0px 1px 3px 1px rgba(60, 64, 67, 0.15);\n",
              "      fill: #174EA6;\n",
              "    }\n",
              "\n",
              "    [theme=dark] .colab-df-convert {\n",
              "      background-color: #3B4455;\n",
              "      fill: #D2E3FC;\n",
              "    }\n",
              "\n",
              "    [theme=dark] .colab-df-convert:hover {\n",
              "      background-color: #434B5C;\n",
              "      box-shadow: 0px 1px 3px 1px rgba(0, 0, 0, 0.15);\n",
              "      filter: drop-shadow(0px 1px 2px rgba(0, 0, 0, 0.3));\n",
              "      fill: #FFFFFF;\n",
              "    }\n",
              "  </style>\n",
              "\n",
              "      <script>\n",
              "        const buttonEl =\n",
              "          document.querySelector('#df-9fc6b507-0705-4a37-8acb-f581ae4241dc button.colab-df-convert');\n",
              "        buttonEl.style.display =\n",
              "          google.colab.kernel.accessAllowed ? 'block' : 'none';\n",
              "\n",
              "        async function convertToInteractive(key) {\n",
              "          const element = document.querySelector('#df-9fc6b507-0705-4a37-8acb-f581ae4241dc');\n",
              "          const dataTable =\n",
              "            await google.colab.kernel.invokeFunction('convertToInteractive',\n",
              "                                                     [key], {});\n",
              "          if (!dataTable) return;\n",
              "\n",
              "          const docLinkHtml = 'Like what you see? Visit the ' +\n",
              "            '<a target=\"_blank\" href=https://colab.research.google.com/notebooks/data_table.ipynb>data table notebook</a>'\n",
              "            + ' to learn more about interactive tables.';\n",
              "          element.innerHTML = '';\n",
              "          dataTable['output_type'] = 'display_data';\n",
              "          await google.colab.output.renderOutput(dataTable, element);\n",
              "          const docLink = document.createElement('div');\n",
              "          docLink.innerHTML = docLinkHtml;\n",
              "          element.appendChild(docLink);\n",
              "        }\n",
              "      </script>\n",
              "    </div>\n",
              "  </div>\n",
              "  "
            ],
            "text/plain": [
              "                           hashtags  \\\n",
              "image_ids                             \n",
              "CaRp-1uPh8l  [['#malaysianpaygap']]   \n",
              "CaT6d2Yve5X  [['#malaysianpaygap']]   \n",
              "CaTh3SgvnI5  [['#malaysianpaygap']]   \n",
              "CaThAfwP7Nc  [['#malaysianpaygap']]   \n",
              "CaThuNHvOiu  [['#malaysianpaygap']]   \n",
              "\n",
              "                                                      captions   likes  \\\n",
              "image_ids                                                                \n",
              "CaRp-1uPh8l                                              [nan]  [1109]   \n",
              "CaT6d2Yve5X  [The many forms of wage theft in local work sc...   [327]   \n",
              "CaTh3SgvnI5                                              [nan]   [118]   \n",
              "CaThAfwP7Nc                                              [nan]   [240]   \n",
              "CaThuNHvOiu                                              [nan]    [61]   \n",
              "\n",
              "            comments                                        image_paths  \\\n",
              "image_ids                                                                 \n",
              "CaRp-1uPh8l      [2]  [/Users/aishapeng/Python/MalaysianPayGap-maste...   \n",
              "CaT6d2Yve5X     [10]  [/Users/aishapeng/Python/MalaysianPayGap-maste...   \n",
              "CaTh3SgvnI5     [17]  [/Users/aishapeng/Python/MalaysianPayGap-maste...   \n",
              "CaThAfwP7Nc     [20]  [/Users/aishapeng/Python/MalaysianPayGap-maste...   \n",
              "CaThuNHvOiu      [2]  [/Users/aishapeng/Python/MalaysianPayGap-maste...   \n",
              "\n",
              "                                                    image_text  \\\n",
              "image_ids                                                        \n",
              "CaRp-1uPh8l  MALAYSIA'S MEDIAN SALARY LW 19 bY a bY BELOW T...   \n",
              "CaT6d2Yve5X  IT (Healthcare / Cybersecurity) 45 Malay RM8k ...   \n",
              "CaTh3SgvnI5  Project Engineer in Food manufacturing Industr...   \n",
              "CaThAfwP7Nc  Senior Barista in F&B 25 2 years experience 2....   \n",
              "CaThuNHvOiu  Senior Finance Logistics 28 Indian 5 years Rm4...   \n",
              "\n",
              "                                                        scores  compound  \\\n",
              "image_ids                                                                  \n",
              "CaRp-1uPh8l  {'neg': 0.0, 'neu': 1.0, 'pos': 0.0, 'compound...    0.0000   \n",
              "CaT6d2Yve5X  {'neg': 0.064, 'neu': 0.879, 'pos': 0.057, 'co...    0.0516   \n",
              "CaTh3SgvnI5  {'neg': 0.148, 'neu': 0.852, 'pos': 0.0, 'comp...   -0.7736   \n",
              "CaThAfwP7Nc  {'neg': 0.134, 'neu': 0.783, 'pos': 0.083, 'co...   -0.2075   \n",
              "CaThuNHvOiu  {'neg': 0.0, 'neu': 1.0, 'pos': 0.0, 'compound...    0.0000   \n",
              "\n",
              "               comp_score  \n",
              "image_ids                  \n",
              "CaRp-1uPh8l  dissatisfied  \n",
              "CaT6d2Yve5X  dissatisfied  \n",
              "CaTh3SgvnI5  dissatisfied  \n",
              "CaThAfwP7Nc  dissatisfied  \n",
              "CaThuNHvOiu  dissatisfied  "
            ]
          },
          "metadata": {},
          "execution_count": 218
        }
      ]
    },
    {
      "cell_type": "code",
      "source": [
        "neutral = df[df['comp_score'] == 'neutral']\n",
        "# neutral"
      ],
      "metadata": {
        "id": "KVjtXqJpnIb9"
      },
      "execution_count": null,
      "outputs": []
    },
    {
      "cell_type": "markdown",
      "source": [
        "## Latent Semantic Analysis (LSA)"
      ],
      "metadata": {
        "id": "zaMBeJZubs5i"
      }
    },
    {
      "cell_type": "markdown",
      "source": [
        "### Stemming"
      ],
      "metadata": {
        "id": "brhHrieMDDWM"
      }
    },
    {
      "cell_type": "code",
      "source": [
        "# perform stemming to reduce words to their root\n",
        "from nltk.stem.snowball import SnowballStemmer\n",
        "\n",
        "# The Snowball Stemmer requires that you pass a language parameter\n",
        "s_stemmer = SnowballStemmer(language='english')"
      ],
      "metadata": {
        "id": "wASm7MSfDFt9"
      },
      "execution_count": 15,
      "outputs": []
    },
    {
      "cell_type": "code",
      "source": [
        "def stemmed_text(imagetext):\n",
        "    return ' '.join([s_stemmer.stem(word) for word in imagetext.split()])\n",
        "\n",
        "df['image_text_lem'] = df['image_text'].apply(stemmed_text)\n",
        "print(df['image_text_lem'][:5]) \n",
        "df['image_text'][:5]"
      ],
      "metadata": {
        "colab": {
          "base_uri": "https://localhost:8080/"
        },
        "id": "Y-zJZXK4SnHd",
        "outputId": "5256529d-e15f-4cd9-97e4-d5869b532065"
      },
      "execution_count": 16,
      "outputs": [
        {
          "output_type": "stream",
          "name": "stdout",
          "text": [
            "image_ids\n",
            "Ca0ueFAPokI    behaviour therapist (aba therapy) workng w chi...\n",
            "CaRp-1uPh8l    malaysia median salari lw 19 by a by below the...\n",
            "CaT5MguPpDI    director 32 male chines 9 year bachelor 5-10k ...\n",
            "CaT6d2Yve5X    it (healthcar / cybersecurity) 45 malay rm 60,...\n",
            "CaTg8Ijvcsw    pr/market in ngo sector 28 femal malay 6 year ...\n",
            "Name: image_text_lem, dtype: object\n"
          ]
        },
        {
          "output_type": "execute_result",
          "data": {
            "text/plain": [
              "image_ids\n",
              "Ca0ueFAPokI    Behaviour Therapist (ABA Therapy) Workng w chi...\n",
              "CaRp-1uPh8l    MALAYSIA'S MEDIAN SALARY LW 19 bY a bY BELOW T...\n",
              "CaT5MguPpDI    Director 32 Male Chinese 9 years Bachelors 5-1...\n",
              "CaT6d2Yve5X    IT (Healthcare / Cybersecurity) 45 Malay RM 60...\n",
              "CaTg8Ijvcsw    PR/Marketing in NGO sector 28 Female Malay 6 y...\n",
              "Name: image_text, dtype: object"
            ]
          },
          "metadata": {},
          "execution_count": 16
        }
      ]
    },
    {
      "cell_type": "code",
      "source": [
        "# for imagetext in df['image_text'].values:\n",
        "#   res = \"\"  \n",
        "#   for word in imagetext.split():\n",
        "#     res += s_stemmer.stem(word)\n",
        "#     print(word+' ---> '+s_stemmer.stem(word))"
      ],
      "metadata": {
        "id": "hIeUHBi0EOrb"
      },
      "execution_count": null,
      "outputs": []
    },
    {
      "cell_type": "markdown",
      "source": [
        "### Document Term Matrix"
      ],
      "metadata": {
        "id": "hK6PHLwJwGQh"
      }
    },
    {
      "cell_type": "code",
      "source": [
        "# count term frequency and converts each document into a vector\n",
        "from sklearn.feature_extraction.text import CountVectorizer\n",
        "\n",
        "CV = CountVectorizer(max_df = 0.20, min_df = 2, stop_words='english') # remove stop words\n",
        "bag_of_words = CV.fit_transform(df['image_text_lem']) "
      ],
      "metadata": {
        "id": "kWLTDKzIbrh6"
      },
      "execution_count": 30,
      "outputs": []
    },
    {
      "cell_type": "code",
      "source": [
        "# Transform the original text message to vector\n",
        "vector = CV.transform(df['image_text_lem'])"
      ],
      "metadata": {
        "id": "-FC7r492xRpp"
      },
      "execution_count": 31,
      "outputs": []
    },
    {
      "cell_type": "code",
      "source": [
        "vector.shape"
      ],
      "metadata": {
        "colab": {
          "base_uri": "https://localhost:8080/"
        },
        "id": "fPQ0YFemx3LC",
        "outputId": "2d601fbc-4420-4ce2-fcd0-b4968d6ad29d"
      },
      "execution_count": 32,
      "outputs": [
        {
          "output_type": "execute_result",
          "data": {
            "text/plain": [
              "(156, 1022)"
            ]
          },
          "metadata": {},
          "execution_count": 32
        }
      ]
    },
    {
      "cell_type": "markdown",
      "source": [
        "min_df reduce the words from 3075 characters to 1085.\n",
        "stemming has reduced the words from 1085 to 1062.\n",
        "Remove last words and reduced max_df to 0.20 have reduced 1062 to 1022.."
      ],
      "metadata": {
        "id": "JZC08j0RCfQQ"
      }
    },
    {
      "cell_type": "markdown",
      "source": [
        "### Singular Value Decomposition (SVD)"
      ],
      "metadata": {
        "id": "W_lSnExkwwZ2"
      }
    },
    {
      "cell_type": "code",
      "source": [
        "bag_of_words"
      ],
      "metadata": {
        "id": "tvD6V4QSzcSO",
        "colab": {
          "base_uri": "https://localhost:8080/"
        },
        "outputId": "4e302266-c9a6-4885-aaeb-3c2b08a7018d"
      },
      "execution_count": 33,
      "outputs": [
        {
          "output_type": "execute_result",
          "data": {
            "text/plain": [
              "<156x1022 sparse matrix of type '<class 'numpy.int64'>'\n",
              "\twith 5103 stored elements in Compressed Sparse Row format>"
            ]
          },
          "metadata": {},
          "execution_count": 33
        }
      ]
    },
    {
      "cell_type": "code",
      "source": [
        "from sklearn.decomposition import TruncatedSVD\n",
        "svd = TruncatedSVD(n_components = 2)\n",
        "lsa = svd.fit_transform(bag_of_words)"
      ],
      "metadata": {
        "id": "fKadjASfwrum"
      },
      "execution_count": 34,
      "outputs": []
    },
    {
      "cell_type": "code",
      "source": [
        "# Constructing DataFrame from lsa\n",
        "topic_encoded = pd.DataFrame(lsa, columns = [\"topic_1\", \"topic_2\"])\n",
        "topic_encoded['text'] = df['image_text'].values\n",
        "display(topic_encoded[[\"text\", \"topic_1\", \"topic_2\"]])"
      ],
      "metadata": {
        "colab": {
          "base_uri": "https://localhost:8080/",
          "height": 423
        },
        "id": "RPKUvuTSznzc",
        "outputId": "d30e00d3-ce60-45bb-9954-2a459409b224"
      },
      "execution_count": 35,
      "outputs": [
        {
          "output_type": "display_data",
          "data": {
            "text/html": [
              "\n",
              "  <div id=\"df-fe366008-be0e-42a1-8597-7e90bc8b51a3\">\n",
              "    <div class=\"colab-df-container\">\n",
              "      <div>\n",
              "<style scoped>\n",
              "    .dataframe tbody tr th:only-of-type {\n",
              "        vertical-align: middle;\n",
              "    }\n",
              "\n",
              "    .dataframe tbody tr th {\n",
              "        vertical-align: top;\n",
              "    }\n",
              "\n",
              "    .dataframe thead th {\n",
              "        text-align: right;\n",
              "    }\n",
              "</style>\n",
              "<table border=\"1\" class=\"dataframe\">\n",
              "  <thead>\n",
              "    <tr style=\"text-align: right;\">\n",
              "      <th></th>\n",
              "      <th>text</th>\n",
              "      <th>topic_1</th>\n",
              "      <th>topic_2</th>\n",
              "    </tr>\n",
              "  </thead>\n",
              "  <tbody>\n",
              "    <tr>\n",
              "      <th>0</th>\n",
              "      <td>Behaviour Therapist (ABA Therapy) Workng w chi...</td>\n",
              "      <td>3.364208</td>\n",
              "      <td>0.343514</td>\n",
              "    </tr>\n",
              "    <tr>\n",
              "      <th>1</th>\n",
              "      <td>MALAYSIA'S MEDIAN SALARY LW 19 bY a bY BELOW T...</td>\n",
              "      <td>0.135947</td>\n",
              "      <td>-0.053438</td>\n",
              "    </tr>\n",
              "    <tr>\n",
              "      <th>2</th>\n",
              "      <td>Director 32 Male Chinese 9 years Bachelors 5-1...</td>\n",
              "      <td>2.165237</td>\n",
              "      <td>0.733433</td>\n",
              "    </tr>\n",
              "    <tr>\n",
              "      <th>3</th>\n",
              "      <td>IT (Healthcare / Cybersecurity) 45 Malay RM 60...</td>\n",
              "      <td>2.336879</td>\n",
              "      <td>-1.365057</td>\n",
              "    </tr>\n",
              "    <tr>\n",
              "      <th>4</th>\n",
              "      <td>PR/Marketing in NGO sector 28 Female Malay 6 y...</td>\n",
              "      <td>1.207181</td>\n",
              "      <td>0.355335</td>\n",
              "    </tr>\n",
              "    <tr>\n",
              "      <th>...</th>\n",
              "      <td>...</td>\n",
              "      <td>...</td>\n",
              "      <td>...</td>\n",
              "    </tr>\n",
              "    <tr>\n",
              "      <th>151</th>\n",
              "      <td>Lead data science, manager, industry data anal...</td>\n",
              "      <td>1.554612</td>\n",
              "      <td>-0.027796</td>\n",
              "    </tr>\n",
              "    <tr>\n",
              "      <th>152</th>\n",
              "      <td>2 P ~— = rR a. EN a €</td>\n",
              "      <td>0.008018</td>\n",
              "      <td>0.012404</td>\n",
              "    </tr>\n",
              "    <tr>\n",
              "      <th>153</th>\n",
              "      <td>Mobile Developer, Fintech MNC 22, East MY Bumi...</td>\n",
              "      <td>1.275746</td>\n",
              "      <td>0.102072</td>\n",
              "    </tr>\n",
              "    <tr>\n",
              "      <th>154</th>\n",
              "      <td>strange for someone who's \"supposed\" to be hol...</td>\n",
              "      <td>2.134513</td>\n",
              "      <td>0.067230</td>\n",
              "    </tr>\n",
              "    <tr>\n",
              "      <th>155</th>\n",
              "      <td>QUE IENAIEIN 8y4242)© submission was annoynmou...</td>\n",
              "      <td>2.125097</td>\n",
              "      <td>-0.353518</td>\n",
              "    </tr>\n",
              "  </tbody>\n",
              "</table>\n",
              "<p>156 rows × 3 columns</p>\n",
              "</div>\n",
              "      <button class=\"colab-df-convert\" onclick=\"convertToInteractive('df-fe366008-be0e-42a1-8597-7e90bc8b51a3')\"\n",
              "              title=\"Convert this dataframe to an interactive table.\"\n",
              "              style=\"display:none;\">\n",
              "        \n",
              "  <svg xmlns=\"http://www.w3.org/2000/svg\" height=\"24px\"viewBox=\"0 0 24 24\"\n",
              "       width=\"24px\">\n",
              "    <path d=\"M0 0h24v24H0V0z\" fill=\"none\"/>\n",
              "    <path d=\"M18.56 5.44l.94 2.06.94-2.06 2.06-.94-2.06-.94-.94-2.06-.94 2.06-2.06.94zm-11 1L8.5 8.5l.94-2.06 2.06-.94-2.06-.94L8.5 2.5l-.94 2.06-2.06.94zm10 10l.94 2.06.94-2.06 2.06-.94-2.06-.94-.94-2.06-.94 2.06-2.06.94z\"/><path d=\"M17.41 7.96l-1.37-1.37c-.4-.4-.92-.59-1.43-.59-.52 0-1.04.2-1.43.59L10.3 9.45l-7.72 7.72c-.78.78-.78 2.05 0 2.83L4 21.41c.39.39.9.59 1.41.59.51 0 1.02-.2 1.41-.59l7.78-7.78 2.81-2.81c.8-.78.8-2.07 0-2.86zM5.41 20L4 18.59l7.72-7.72 1.47 1.35L5.41 20z\"/>\n",
              "  </svg>\n",
              "      </button>\n",
              "      \n",
              "  <style>\n",
              "    .colab-df-container {\n",
              "      display:flex;\n",
              "      flex-wrap:wrap;\n",
              "      gap: 12px;\n",
              "    }\n",
              "\n",
              "    .colab-df-convert {\n",
              "      background-color: #E8F0FE;\n",
              "      border: none;\n",
              "      border-radius: 50%;\n",
              "      cursor: pointer;\n",
              "      display: none;\n",
              "      fill: #1967D2;\n",
              "      height: 32px;\n",
              "      padding: 0 0 0 0;\n",
              "      width: 32px;\n",
              "    }\n",
              "\n",
              "    .colab-df-convert:hover {\n",
              "      background-color: #E2EBFA;\n",
              "      box-shadow: 0px 1px 2px rgba(60, 64, 67, 0.3), 0px 1px 3px 1px rgba(60, 64, 67, 0.15);\n",
              "      fill: #174EA6;\n",
              "    }\n",
              "\n",
              "    [theme=dark] .colab-df-convert {\n",
              "      background-color: #3B4455;\n",
              "      fill: #D2E3FC;\n",
              "    }\n",
              "\n",
              "    [theme=dark] .colab-df-convert:hover {\n",
              "      background-color: #434B5C;\n",
              "      box-shadow: 0px 1px 3px 1px rgba(0, 0, 0, 0.15);\n",
              "      filter: drop-shadow(0px 1px 2px rgba(0, 0, 0, 0.3));\n",
              "      fill: #FFFFFF;\n",
              "    }\n",
              "  </style>\n",
              "\n",
              "      <script>\n",
              "        const buttonEl =\n",
              "          document.querySelector('#df-fe366008-be0e-42a1-8597-7e90bc8b51a3 button.colab-df-convert');\n",
              "        buttonEl.style.display =\n",
              "          google.colab.kernel.accessAllowed ? 'block' : 'none';\n",
              "\n",
              "        async function convertToInteractive(key) {\n",
              "          const element = document.querySelector('#df-fe366008-be0e-42a1-8597-7e90bc8b51a3');\n",
              "          const dataTable =\n",
              "            await google.colab.kernel.invokeFunction('convertToInteractive',\n",
              "                                                     [key], {});\n",
              "          if (!dataTable) return;\n",
              "\n",
              "          const docLinkHtml = 'Like what you see? Visit the ' +\n",
              "            '<a target=\"_blank\" href=https://colab.research.google.com/notebooks/data_table.ipynb>data table notebook</a>'\n",
              "            + ' to learn more about interactive tables.';\n",
              "          element.innerHTML = '';\n",
              "          dataTable['output_type'] = 'display_data';\n",
              "          await google.colab.output.renderOutput(dataTable, element);\n",
              "          const docLink = document.createElement('div');\n",
              "          docLink.innerHTML = docLinkHtml;\n",
              "          element.appendChild(docLink);\n",
              "        }\n",
              "      </script>\n",
              "    </div>\n",
              "  </div>\n",
              "  "
            ],
            "text/plain": [
              "                                                  text   topic_1   topic_2\n",
              "0    Behaviour Therapist (ABA Therapy) Workng w chi...  3.364208  0.343514\n",
              "1    MALAYSIA'S MEDIAN SALARY LW 19 bY a bY BELOW T...  0.135947 -0.053438\n",
              "2    Director 32 Male Chinese 9 years Bachelors 5-1...  2.165237  0.733433\n",
              "3    IT (Healthcare / Cybersecurity) 45 Malay RM 60...  2.336879 -1.365057\n",
              "4    PR/Marketing in NGO sector 28 Female Malay 6 y...  1.207181  0.355335\n",
              "..                                                 ...       ...       ...\n",
              "151  Lead data science, manager, industry data anal...  1.554612 -0.027796\n",
              "152                              2 P ~— = rR a. EN a €  0.008018  0.012404\n",
              "153  Mobile Developer, Fintech MNC 22, East MY Bumi...  1.275746  0.102072\n",
              "154  strange for someone who's \"supposed\" to be hol...  2.134513  0.067230\n",
              "155  QUE IENAIEIN 8y4242)© submission was annoynmou...  2.125097 -0.353518\n",
              "\n",
              "[156 rows x 3 columns]"
            ]
          },
          "metadata": {}
        }
      ]
    },
    {
      "cell_type": "code",
      "source": [
        "# extract first 2 words of image_text\n",
        "# text = [' '.join(text.split()[:2]) for text in image_text]\n",
        "# text[:5]"
      ],
      "metadata": {
        "id": "0-OI49nO-wOG"
      },
      "execution_count": null,
      "outputs": []
    },
    {
      "cell_type": "markdown",
      "source": [
        "### Encoding"
      ],
      "metadata": {
        "id": "t7WwTwH7Bgal"
      }
    },
    {
      "cell_type": "code",
      "source": [
        "dictionary = CV.get_feature_names()\n",
        "dictionary[:10]"
      ],
      "metadata": {
        "colab": {
          "base_uri": "https://localhost:8080/"
        },
        "id": "bSj2ew8nBiqb",
        "outputId": "3af92b19-9125-474d-eeae-7de9ebb30109"
      },
      "execution_count": 36,
      "outputs": [
        {
          "output_type": "stream",
          "name": "stderr",
          "text": [
            "/usr/local/lib/python3.7/dist-packages/sklearn/utils/deprecation.py:87: FutureWarning: Function get_feature_names is deprecated; get_feature_names is deprecated in 1.0 and will be removed in 1.2. Please use get_feature_names_out instead.\n",
            "  warnings.warn(msg, category=FutureWarning)\n"
          ]
        },
        {
          "output_type": "execute_result",
          "data": {
            "text/plain": [
              "['000', '10', '100', '10k', '10pm', '12', '12k', '14', '15', '15k']"
            ]
          },
          "metadata": {},
          "execution_count": 36
        }
      ]
    },
    {
      "cell_type": "markdown",
      "source": [
        "### The Encoding Matrix"
      ],
      "metadata": {
        "id": "llsCko6oB0IU"
      }
    },
    {
      "cell_type": "code",
      "source": [
        "encoding_matrix = pd.DataFrame(svd.components_,\n",
        "                               index=['topic_1', 'topic_2'],\n",
        "                               columns=dictionary).T\n",
        "encoding_matrix"
      ],
      "metadata": {
        "colab": {
          "base_uri": "https://localhost:8080/",
          "height": 423
        },
        "id": "Qs6_e3-jBtu4",
        "outputId": "c7233c1c-bc21-459e-db5c-3900eb19723e"
      },
      "execution_count": 37,
      "outputs": [
        {
          "output_type": "execute_result",
          "data": {
            "text/html": [
              "\n",
              "  <div id=\"df-0b8abe41-dddc-427e-b363-5db5711e14d5\">\n",
              "    <div class=\"colab-df-container\">\n",
              "      <div>\n",
              "<style scoped>\n",
              "    .dataframe tbody tr th:only-of-type {\n",
              "        vertical-align: middle;\n",
              "    }\n",
              "\n",
              "    .dataframe tbody tr th {\n",
              "        vertical-align: top;\n",
              "    }\n",
              "\n",
              "    .dataframe thead th {\n",
              "        text-align: right;\n",
              "    }\n",
              "</style>\n",
              "<table border=\"1\" class=\"dataframe\">\n",
              "  <thead>\n",
              "    <tr style=\"text-align: right;\">\n",
              "      <th></th>\n",
              "      <th>topic_1</th>\n",
              "      <th>topic_2</th>\n",
              "    </tr>\n",
              "  </thead>\n",
              "  <tbody>\n",
              "    <tr>\n",
              "      <th>000</th>\n",
              "      <td>0.031436</td>\n",
              "      <td>-0.024965</td>\n",
              "    </tr>\n",
              "    <tr>\n",
              "      <th>10</th>\n",
              "      <td>0.050864</td>\n",
              "      <td>0.015893</td>\n",
              "    </tr>\n",
              "    <tr>\n",
              "      <th>100</th>\n",
              "      <td>0.005908</td>\n",
              "      <td>-0.001912</td>\n",
              "    </tr>\n",
              "    <tr>\n",
              "      <th>10k</th>\n",
              "      <td>0.007605</td>\n",
              "      <td>-0.000214</td>\n",
              "    </tr>\n",
              "    <tr>\n",
              "      <th>10pm</th>\n",
              "      <td>0.002520</td>\n",
              "      <td>-0.001951</td>\n",
              "    </tr>\n",
              "    <tr>\n",
              "      <th>...</th>\n",
              "      <td>...</td>\n",
              "      <td>...</td>\n",
              "    </tr>\n",
              "    <tr>\n",
              "      <th>ya</th>\n",
              "      <td>0.005097</td>\n",
              "      <td>-0.000965</td>\n",
              "    </tr>\n",
              "    <tr>\n",
              "      <th>years</th>\n",
              "      <td>0.027826</td>\n",
              "      <td>0.020558</td>\n",
              "    </tr>\n",
              "    <tr>\n",
              "      <th>young</th>\n",
              "      <td>0.026325</td>\n",
              "      <td>0.005498</td>\n",
              "    </tr>\n",
              "    <tr>\n",
              "      <th>younger</th>\n",
              "      <td>0.006324</td>\n",
              "      <td>0.001477</td>\n",
              "    </tr>\n",
              "    <tr>\n",
              "      <th>yrs</th>\n",
              "      <td>0.013707</td>\n",
              "      <td>0.006872</td>\n",
              "    </tr>\n",
              "  </tbody>\n",
              "</table>\n",
              "<p>1022 rows × 2 columns</p>\n",
              "</div>\n",
              "      <button class=\"colab-df-convert\" onclick=\"convertToInteractive('df-0b8abe41-dddc-427e-b363-5db5711e14d5')\"\n",
              "              title=\"Convert this dataframe to an interactive table.\"\n",
              "              style=\"display:none;\">\n",
              "        \n",
              "  <svg xmlns=\"http://www.w3.org/2000/svg\" height=\"24px\"viewBox=\"0 0 24 24\"\n",
              "       width=\"24px\">\n",
              "    <path d=\"M0 0h24v24H0V0z\" fill=\"none\"/>\n",
              "    <path d=\"M18.56 5.44l.94 2.06.94-2.06 2.06-.94-2.06-.94-.94-2.06-.94 2.06-2.06.94zm-11 1L8.5 8.5l.94-2.06 2.06-.94-2.06-.94L8.5 2.5l-.94 2.06-2.06.94zm10 10l.94 2.06.94-2.06 2.06-.94-2.06-.94-.94-2.06-.94 2.06-2.06.94z\"/><path d=\"M17.41 7.96l-1.37-1.37c-.4-.4-.92-.59-1.43-.59-.52 0-1.04.2-1.43.59L10.3 9.45l-7.72 7.72c-.78.78-.78 2.05 0 2.83L4 21.41c.39.39.9.59 1.41.59.51 0 1.02-.2 1.41-.59l7.78-7.78 2.81-2.81c.8-.78.8-2.07 0-2.86zM5.41 20L4 18.59l7.72-7.72 1.47 1.35L5.41 20z\"/>\n",
              "  </svg>\n",
              "      </button>\n",
              "      \n",
              "  <style>\n",
              "    .colab-df-container {\n",
              "      display:flex;\n",
              "      flex-wrap:wrap;\n",
              "      gap: 12px;\n",
              "    }\n",
              "\n",
              "    .colab-df-convert {\n",
              "      background-color: #E8F0FE;\n",
              "      border: none;\n",
              "      border-radius: 50%;\n",
              "      cursor: pointer;\n",
              "      display: none;\n",
              "      fill: #1967D2;\n",
              "      height: 32px;\n",
              "      padding: 0 0 0 0;\n",
              "      width: 32px;\n",
              "    }\n",
              "\n",
              "    .colab-df-convert:hover {\n",
              "      background-color: #E2EBFA;\n",
              "      box-shadow: 0px 1px 2px rgba(60, 64, 67, 0.3), 0px 1px 3px 1px rgba(60, 64, 67, 0.15);\n",
              "      fill: #174EA6;\n",
              "    }\n",
              "\n",
              "    [theme=dark] .colab-df-convert {\n",
              "      background-color: #3B4455;\n",
              "      fill: #D2E3FC;\n",
              "    }\n",
              "\n",
              "    [theme=dark] .colab-df-convert:hover {\n",
              "      background-color: #434B5C;\n",
              "      box-shadow: 0px 1px 3px 1px rgba(0, 0, 0, 0.15);\n",
              "      filter: drop-shadow(0px 1px 2px rgba(0, 0, 0, 0.3));\n",
              "      fill: #FFFFFF;\n",
              "    }\n",
              "  </style>\n",
              "\n",
              "      <script>\n",
              "        const buttonEl =\n",
              "          document.querySelector('#df-0b8abe41-dddc-427e-b363-5db5711e14d5 button.colab-df-convert');\n",
              "        buttonEl.style.display =\n",
              "          google.colab.kernel.accessAllowed ? 'block' : 'none';\n",
              "\n",
              "        async function convertToInteractive(key) {\n",
              "          const element = document.querySelector('#df-0b8abe41-dddc-427e-b363-5db5711e14d5');\n",
              "          const dataTable =\n",
              "            await google.colab.kernel.invokeFunction('convertToInteractive',\n",
              "                                                     [key], {});\n",
              "          if (!dataTable) return;\n",
              "\n",
              "          const docLinkHtml = 'Like what you see? Visit the ' +\n",
              "            '<a target=\"_blank\" href=https://colab.research.google.com/notebooks/data_table.ipynb>data table notebook</a>'\n",
              "            + ' to learn more about interactive tables.';\n",
              "          element.innerHTML = '';\n",
              "          dataTable['output_type'] = 'display_data';\n",
              "          await google.colab.output.renderOutput(dataTable, element);\n",
              "          const docLink = document.createElement('div');\n",
              "          docLink.innerHTML = docLinkHtml;\n",
              "          element.appendChild(docLink);\n",
              "        }\n",
              "      </script>\n",
              "    </div>\n",
              "  </div>\n",
              "  "
            ],
            "text/plain": [
              "          topic_1   topic_2\n",
              "000      0.031436 -0.024965\n",
              "10       0.050864  0.015893\n",
              "100      0.005908 -0.001912\n",
              "10k      0.007605 -0.000214\n",
              "10pm     0.002520 -0.001951\n",
              "...           ...       ...\n",
              "ya       0.005097 -0.000965\n",
              "years    0.027826  0.020558\n",
              "young    0.026325  0.005498\n",
              "younger  0.006324  0.001477\n",
              "yrs      0.013707  0.006872\n",
              "\n",
              "[1022 rows x 2 columns]"
            ]
          },
          "metadata": {},
          "execution_count": 37
        }
      ]
    },
    {
      "cell_type": "markdown",
      "source": [
        "### Find the top words for each topic"
      ],
      "metadata": {
        "id": "ONIjJMF4tIs0"
      }
    },
    {
      "cell_type": "code",
      "source": [
        "encoding_matrix['abs_topic_1'] = np.abs(encoding_matrix['topic_1'])\n",
        "encoding_matrix['abs_topic_2'] = np.abs(encoding_matrix['topic_2'])\n",
        "top_20_topic1 = encoding_matrix.sort_values('abs_topic_1', ascending=False)\n",
        "top_20_topic1.head(20)"
      ],
      "metadata": {
        "colab": {
          "base_uri": "https://localhost:8080/",
          "height": 677
        },
        "id": "RerrPGQLtbGl",
        "outputId": "eb087c3b-5cbc-4bba-d662-9b84961713dd"
      },
      "execution_count": 38,
      "outputs": [
        {
          "output_type": "execute_result",
          "data": {
            "text/html": [
              "\n",
              "  <div id=\"df-60aef763-0ca1-49b1-9690-bce3e2d60f89\">\n",
              "    <div class=\"colab-df-container\">\n",
              "      <div>\n",
              "<style scoped>\n",
              "    .dataframe tbody tr th:only-of-type {\n",
              "        vertical-align: middle;\n",
              "    }\n",
              "\n",
              "    .dataframe tbody tr th {\n",
              "        vertical-align: top;\n",
              "    }\n",
              "\n",
              "    .dataframe thead th {\n",
              "        text-align: right;\n",
              "    }\n",
              "</style>\n",
              "<table border=\"1\" class=\"dataframe\">\n",
              "  <thead>\n",
              "    <tr style=\"text-align: right;\">\n",
              "      <th></th>\n",
              "      <th>topic_1</th>\n",
              "      <th>topic_2</th>\n",
              "      <th>abs_topic_1</th>\n",
              "      <th>abs_topic_2</th>\n",
              "    </tr>\n",
              "  </thead>\n",
              "  <tbody>\n",
              "    <tr>\n",
              "      <th>time</th>\n",
              "      <td>0.250149</td>\n",
              "      <td>-0.348853</td>\n",
              "      <td>0.250149</td>\n",
              "      <td>0.348853</td>\n",
              "    </tr>\n",
              "    <tr>\n",
              "      <th>veri</th>\n",
              "      <td>0.184425</td>\n",
              "      <td>0.195952</td>\n",
              "      <td>0.184425</td>\n",
              "      <td>0.195952</td>\n",
              "    </tr>\n",
              "    <tr>\n",
              "      <th>rm</th>\n",
              "      <td>0.175356</td>\n",
              "      <td>-0.199679</td>\n",
              "      <td>0.175356</td>\n",
              "      <td>0.199679</td>\n",
              "    </tr>\n",
              "    <tr>\n",
              "      <th>day</th>\n",
              "      <td>0.145593</td>\n",
              "      <td>-0.093089</td>\n",
              "      <td>0.145593</td>\n",
              "      <td>0.093089</td>\n",
              "    </tr>\n",
              "    <tr>\n",
              "      <th>need</th>\n",
              "      <td>0.145433</td>\n",
              "      <td>0.025384</td>\n",
              "      <td>0.145433</td>\n",
              "      <td>0.025384</td>\n",
              "    </tr>\n",
              "    <tr>\n",
              "      <th>know</th>\n",
              "      <td>0.144180</td>\n",
              "      <td>0.057089</td>\n",
              "      <td>0.144180</td>\n",
              "      <td>0.057089</td>\n",
              "    </tr>\n",
              "    <tr>\n",
              "      <th>onli</th>\n",
              "      <td>0.135349</td>\n",
              "      <td>0.017134</td>\n",
              "      <td>0.135349</td>\n",
              "      <td>0.017134</td>\n",
              "    </tr>\n",
              "    <tr>\n",
              "      <th>5k</th>\n",
              "      <td>0.135180</td>\n",
              "      <td>-0.038523</td>\n",
              "      <td>0.135180</td>\n",
              "      <td>0.038523</td>\n",
              "    </tr>\n",
              "    <tr>\n",
              "      <th>basic</th>\n",
              "      <td>0.124083</td>\n",
              "      <td>-0.052454</td>\n",
              "      <td>0.124083</td>\n",
              "      <td>0.052454</td>\n",
              "    </tr>\n",
              "    <tr>\n",
              "      <th>increment</th>\n",
              "      <td>0.120838</td>\n",
              "      <td>-0.003670</td>\n",
              "      <td>0.120838</td>\n",
              "      <td>0.003670</td>\n",
              "    </tr>\n",
              "    <tr>\n",
              "      <th>becaus</th>\n",
              "      <td>0.114331</td>\n",
              "      <td>0.000135</td>\n",
              "      <td>0.114331</td>\n",
              "      <td>0.000135</td>\n",
              "    </tr>\n",
              "    <tr>\n",
              "      <th>better</th>\n",
              "      <td>0.113887</td>\n",
              "      <td>-0.084454</td>\n",
              "      <td>0.113887</td>\n",
              "      <td>0.084454</td>\n",
              "    </tr>\n",
              "    <tr>\n",
              "      <th>engin</th>\n",
              "      <td>0.113293</td>\n",
              "      <td>-0.031139</td>\n",
              "      <td>0.113293</td>\n",
              "      <td>0.031139</td>\n",
              "    </tr>\n",
              "    <tr>\n",
              "      <th>hour</th>\n",
              "      <td>0.112680</td>\n",
              "      <td>-0.065772</td>\n",
              "      <td>0.112680</td>\n",
              "      <td>0.065772</td>\n",
              "    </tr>\n",
              "    <tr>\n",
              "      <th>mani</th>\n",
              "      <td>0.109813</td>\n",
              "      <td>-0.000766</td>\n",
              "      <td>0.109813</td>\n",
              "      <td>0.000766</td>\n",
              "    </tr>\n",
              "    <tr>\n",
              "      <th>alway</th>\n",
              "      <td>0.105094</td>\n",
              "      <td>-0.081135</td>\n",
              "      <td>0.105094</td>\n",
              "      <td>0.081135</td>\n",
              "    </tr>\n",
              "    <tr>\n",
              "      <th>paid</th>\n",
              "      <td>0.103848</td>\n",
              "      <td>0.097153</td>\n",
              "      <td>0.103848</td>\n",
              "      <td>0.097153</td>\n",
              "    </tr>\n",
              "    <tr>\n",
              "      <th>company</th>\n",
              "      <td>0.101364</td>\n",
              "      <td>-0.010214</td>\n",
              "      <td>0.101364</td>\n",
              "      <td>0.010214</td>\n",
              "    </tr>\n",
              "    <tr>\n",
              "      <th>peopl</th>\n",
              "      <td>0.100553</td>\n",
              "      <td>0.022993</td>\n",
              "      <td>0.100553</td>\n",
              "      <td>0.022993</td>\n",
              "    </tr>\n",
              "    <tr>\n",
              "      <th>lot</th>\n",
              "      <td>0.099599</td>\n",
              "      <td>-0.005940</td>\n",
              "      <td>0.099599</td>\n",
              "      <td>0.005940</td>\n",
              "    </tr>\n",
              "  </tbody>\n",
              "</table>\n",
              "</div>\n",
              "      <button class=\"colab-df-convert\" onclick=\"convertToInteractive('df-60aef763-0ca1-49b1-9690-bce3e2d60f89')\"\n",
              "              title=\"Convert this dataframe to an interactive table.\"\n",
              "              style=\"display:none;\">\n",
              "        \n",
              "  <svg xmlns=\"http://www.w3.org/2000/svg\" height=\"24px\"viewBox=\"0 0 24 24\"\n",
              "       width=\"24px\">\n",
              "    <path d=\"M0 0h24v24H0V0z\" fill=\"none\"/>\n",
              "    <path d=\"M18.56 5.44l.94 2.06.94-2.06 2.06-.94-2.06-.94-.94-2.06-.94 2.06-2.06.94zm-11 1L8.5 8.5l.94-2.06 2.06-.94-2.06-.94L8.5 2.5l-.94 2.06-2.06.94zm10 10l.94 2.06.94-2.06 2.06-.94-2.06-.94-.94-2.06-.94 2.06-2.06.94z\"/><path d=\"M17.41 7.96l-1.37-1.37c-.4-.4-.92-.59-1.43-.59-.52 0-1.04.2-1.43.59L10.3 9.45l-7.72 7.72c-.78.78-.78 2.05 0 2.83L4 21.41c.39.39.9.59 1.41.59.51 0 1.02-.2 1.41-.59l7.78-7.78 2.81-2.81c.8-.78.8-2.07 0-2.86zM5.41 20L4 18.59l7.72-7.72 1.47 1.35L5.41 20z\"/>\n",
              "  </svg>\n",
              "      </button>\n",
              "      \n",
              "  <style>\n",
              "    .colab-df-container {\n",
              "      display:flex;\n",
              "      flex-wrap:wrap;\n",
              "      gap: 12px;\n",
              "    }\n",
              "\n",
              "    .colab-df-convert {\n",
              "      background-color: #E8F0FE;\n",
              "      border: none;\n",
              "      border-radius: 50%;\n",
              "      cursor: pointer;\n",
              "      display: none;\n",
              "      fill: #1967D2;\n",
              "      height: 32px;\n",
              "      padding: 0 0 0 0;\n",
              "      width: 32px;\n",
              "    }\n",
              "\n",
              "    .colab-df-convert:hover {\n",
              "      background-color: #E2EBFA;\n",
              "      box-shadow: 0px 1px 2px rgba(60, 64, 67, 0.3), 0px 1px 3px 1px rgba(60, 64, 67, 0.15);\n",
              "      fill: #174EA6;\n",
              "    }\n",
              "\n",
              "    [theme=dark] .colab-df-convert {\n",
              "      background-color: #3B4455;\n",
              "      fill: #D2E3FC;\n",
              "    }\n",
              "\n",
              "    [theme=dark] .colab-df-convert:hover {\n",
              "      background-color: #434B5C;\n",
              "      box-shadow: 0px 1px 3px 1px rgba(0, 0, 0, 0.15);\n",
              "      filter: drop-shadow(0px 1px 2px rgba(0, 0, 0, 0.3));\n",
              "      fill: #FFFFFF;\n",
              "    }\n",
              "  </style>\n",
              "\n",
              "      <script>\n",
              "        const buttonEl =\n",
              "          document.querySelector('#df-60aef763-0ca1-49b1-9690-bce3e2d60f89 button.colab-df-convert');\n",
              "        buttonEl.style.display =\n",
              "          google.colab.kernel.accessAllowed ? 'block' : 'none';\n",
              "\n",
              "        async function convertToInteractive(key) {\n",
              "          const element = document.querySelector('#df-60aef763-0ca1-49b1-9690-bce3e2d60f89');\n",
              "          const dataTable =\n",
              "            await google.colab.kernel.invokeFunction('convertToInteractive',\n",
              "                                                     [key], {});\n",
              "          if (!dataTable) return;\n",
              "\n",
              "          const docLinkHtml = 'Like what you see? Visit the ' +\n",
              "            '<a target=\"_blank\" href=https://colab.research.google.com/notebooks/data_table.ipynb>data table notebook</a>'\n",
              "            + ' to learn more about interactive tables.';\n",
              "          element.innerHTML = '';\n",
              "          dataTable['output_type'] = 'display_data';\n",
              "          await google.colab.output.renderOutput(dataTable, element);\n",
              "          const docLink = document.createElement('div');\n",
              "          docLink.innerHTML = docLinkHtml;\n",
              "          element.appendChild(docLink);\n",
              "        }\n",
              "      </script>\n",
              "    </div>\n",
              "  </div>\n",
              "  "
            ],
            "text/plain": [
              "            topic_1   topic_2  abs_topic_1  abs_topic_2\n",
              "time       0.250149 -0.348853     0.250149     0.348853\n",
              "veri       0.184425  0.195952     0.184425     0.195952\n",
              "rm         0.175356 -0.199679     0.175356     0.199679\n",
              "day        0.145593 -0.093089     0.145593     0.093089\n",
              "need       0.145433  0.025384     0.145433     0.025384\n",
              "know       0.144180  0.057089     0.144180     0.057089\n",
              "onli       0.135349  0.017134     0.135349     0.017134\n",
              "5k         0.135180 -0.038523     0.135180     0.038523\n",
              "basic      0.124083 -0.052454     0.124083     0.052454\n",
              "increment  0.120838 -0.003670     0.120838     0.003670\n",
              "becaus     0.114331  0.000135     0.114331     0.000135\n",
              "better     0.113887 -0.084454     0.113887     0.084454\n",
              "engin      0.113293 -0.031139     0.113293     0.031139\n",
              "hour       0.112680 -0.065772     0.112680     0.065772\n",
              "mani       0.109813 -0.000766     0.109813     0.000766\n",
              "alway      0.105094 -0.081135     0.105094     0.081135\n",
              "paid       0.103848  0.097153     0.103848     0.097153\n",
              "company    0.101364 -0.010214     0.101364     0.010214\n",
              "peopl      0.100553  0.022993     0.100553     0.022993\n",
              "lot        0.099599 -0.005940     0.099599     0.005940"
            ]
          },
          "metadata": {},
          "execution_count": 38
        }
      ]
    },
    {
      "cell_type": "markdown",
      "source": [
        "We can see that most of the top 20 words for **Topic 1** are more close to describing satisfied work, such as \"better\", \"increment.Therefore, **Topic 1** refers to 'satisfied'."
      ],
      "metadata": {
        "id": "kZIaaWnb0tar"
      }
    },
    {
      "cell_type": "code",
      "source": [
        "top_20_topic2 = encoding_matrix.sort_values('abs_topic_2', ascending=False)\n",
        "top_20_topic2.head(20)"
      ],
      "metadata": {
        "colab": {
          "base_uri": "https://localhost:8080/",
          "height": 677
        },
        "id": "lHlm8kFrucoa",
        "outputId": "2c43779d-22cb-4625-b63b-f3d81eb6ee3d"
      },
      "execution_count": 39,
      "outputs": [
        {
          "output_type": "execute_result",
          "data": {
            "text/html": [
              "\n",
              "  <div id=\"df-14b0a63a-714c-48ba-9a67-518a59b21db5\">\n",
              "    <div class=\"colab-df-container\">\n",
              "      <div>\n",
              "<style scoped>\n",
              "    .dataframe tbody tr th:only-of-type {\n",
              "        vertical-align: middle;\n",
              "    }\n",
              "\n",
              "    .dataframe tbody tr th {\n",
              "        vertical-align: top;\n",
              "    }\n",
              "\n",
              "    .dataframe thead th {\n",
              "        text-align: right;\n",
              "    }\n",
              "</style>\n",
              "<table border=\"1\" class=\"dataframe\">\n",
              "  <thead>\n",
              "    <tr style=\"text-align: right;\">\n",
              "      <th></th>\n",
              "      <th>topic_1</th>\n",
              "      <th>topic_2</th>\n",
              "      <th>abs_topic_1</th>\n",
              "      <th>abs_topic_2</th>\n",
              "    </tr>\n",
              "  </thead>\n",
              "  <tbody>\n",
              "    <tr>\n",
              "      <th>lawyer</th>\n",
              "      <td>0.087621</td>\n",
              "      <td>0.478234</td>\n",
              "      <td>0.087621</td>\n",
              "      <td>0.478234</td>\n",
              "    </tr>\n",
              "    <tr>\n",
              "      <th>time</th>\n",
              "      <td>0.250149</td>\n",
              "      <td>-0.348853</td>\n",
              "      <td>0.250149</td>\n",
              "      <td>0.348853</td>\n",
              "    </tr>\n",
              "    <tr>\n",
              "      <th>firm</th>\n",
              "      <td>0.068533</td>\n",
              "      <td>0.232817</td>\n",
              "      <td>0.068533</td>\n",
              "      <td>0.232817</td>\n",
              "    </tr>\n",
              "    <tr>\n",
              "      <th>law</th>\n",
              "      <td>0.050257</td>\n",
              "      <td>0.221758</td>\n",
              "      <td>0.050257</td>\n",
              "      <td>0.221758</td>\n",
              "    </tr>\n",
              "    <tr>\n",
              "      <th>rm</th>\n",
              "      <td>0.175356</td>\n",
              "      <td>-0.199679</td>\n",
              "      <td>0.175356</td>\n",
              "      <td>0.199679</td>\n",
              "    </tr>\n",
              "    <tr>\n",
              "      <th>veri</th>\n",
              "      <td>0.184425</td>\n",
              "      <td>0.195952</td>\n",
              "      <td>0.184425</td>\n",
              "      <td>0.195952</td>\n",
              "    </tr>\n",
              "    <tr>\n",
              "      <th>underpaid</th>\n",
              "      <td>0.079781</td>\n",
              "      <td>0.143078</td>\n",
              "      <td>0.079781</td>\n",
              "      <td>0.143078</td>\n",
              "    </tr>\n",
              "    <tr>\n",
              "      <th>especi</th>\n",
              "      <td>0.072281</td>\n",
              "      <td>0.140117</td>\n",
              "      <td>0.072281</td>\n",
              "      <td>0.140117</td>\n",
              "    </tr>\n",
              "    <tr>\n",
              "      <th>client</th>\n",
              "      <td>0.069323</td>\n",
              "      <td>0.114884</td>\n",
              "      <td>0.069323</td>\n",
              "      <td>0.114884</td>\n",
              "    </tr>\n",
              "    <tr>\n",
              "      <th>offer</th>\n",
              "      <td>0.095396</td>\n",
              "      <td>-0.113290</td>\n",
              "      <td>0.095396</td>\n",
              "      <td>0.113290</td>\n",
              "    </tr>\n",
              "    <tr>\n",
              "      <th>practic</th>\n",
              "      <td>0.020741</td>\n",
              "      <td>0.107944</td>\n",
              "      <td>0.020741</td>\n",
              "      <td>0.107944</td>\n",
              "    </tr>\n",
              "    <tr>\n",
              "      <th>field</th>\n",
              "      <td>0.060368</td>\n",
              "      <td>0.105735</td>\n",
              "      <td>0.060368</td>\n",
              "      <td>0.105735</td>\n",
              "    </tr>\n",
              "    <tr>\n",
              "      <th>compar</th>\n",
              "      <td>0.051812</td>\n",
              "      <td>0.098831</td>\n",
              "      <td>0.051812</td>\n",
              "      <td>0.098831</td>\n",
              "    </tr>\n",
              "    <tr>\n",
              "      <th>paid</th>\n",
              "      <td>0.103848</td>\n",
              "      <td>0.097153</td>\n",
              "      <td>0.103848</td>\n",
              "      <td>0.097153</td>\n",
              "    </tr>\n",
              "    <tr>\n",
              "      <th>day</th>\n",
              "      <td>0.145593</td>\n",
              "      <td>-0.093089</td>\n",
              "      <td>0.145593</td>\n",
              "      <td>0.093089</td>\n",
              "    </tr>\n",
              "    <tr>\n",
              "      <th>wage</th>\n",
              "      <td>0.061465</td>\n",
              "      <td>-0.091461</td>\n",
              "      <td>0.061465</td>\n",
              "      <td>0.091461</td>\n",
              "    </tr>\n",
              "    <tr>\n",
              "      <th>general</th>\n",
              "      <td>0.027863</td>\n",
              "      <td>0.087660</td>\n",
              "      <td>0.027863</td>\n",
              "      <td>0.087660</td>\n",
              "    </tr>\n",
              "    <tr>\n",
              "      <th>region</th>\n",
              "      <td>0.014851</td>\n",
              "      <td>0.085464</td>\n",
              "      <td>0.014851</td>\n",
              "      <td>0.085464</td>\n",
              "    </tr>\n",
              "    <tr>\n",
              "      <th>better</th>\n",
              "      <td>0.113887</td>\n",
              "      <td>-0.084454</td>\n",
              "      <td>0.113887</td>\n",
              "      <td>0.084454</td>\n",
              "    </tr>\n",
              "    <tr>\n",
              "      <th>bad</th>\n",
              "      <td>0.051413</td>\n",
              "      <td>0.082939</td>\n",
              "      <td>0.051413</td>\n",
              "      <td>0.082939</td>\n",
              "    </tr>\n",
              "  </tbody>\n",
              "</table>\n",
              "</div>\n",
              "      <button class=\"colab-df-convert\" onclick=\"convertToInteractive('df-14b0a63a-714c-48ba-9a67-518a59b21db5')\"\n",
              "              title=\"Convert this dataframe to an interactive table.\"\n",
              "              style=\"display:none;\">\n",
              "        \n",
              "  <svg xmlns=\"http://www.w3.org/2000/svg\" height=\"24px\"viewBox=\"0 0 24 24\"\n",
              "       width=\"24px\">\n",
              "    <path d=\"M0 0h24v24H0V0z\" fill=\"none\"/>\n",
              "    <path d=\"M18.56 5.44l.94 2.06.94-2.06 2.06-.94-2.06-.94-.94-2.06-.94 2.06-2.06.94zm-11 1L8.5 8.5l.94-2.06 2.06-.94-2.06-.94L8.5 2.5l-.94 2.06-2.06.94zm10 10l.94 2.06.94-2.06 2.06-.94-2.06-.94-.94-2.06-.94 2.06-2.06.94z\"/><path d=\"M17.41 7.96l-1.37-1.37c-.4-.4-.92-.59-1.43-.59-.52 0-1.04.2-1.43.59L10.3 9.45l-7.72 7.72c-.78.78-.78 2.05 0 2.83L4 21.41c.39.39.9.59 1.41.59.51 0 1.02-.2 1.41-.59l7.78-7.78 2.81-2.81c.8-.78.8-2.07 0-2.86zM5.41 20L4 18.59l7.72-7.72 1.47 1.35L5.41 20z\"/>\n",
              "  </svg>\n",
              "      </button>\n",
              "      \n",
              "  <style>\n",
              "    .colab-df-container {\n",
              "      display:flex;\n",
              "      flex-wrap:wrap;\n",
              "      gap: 12px;\n",
              "    }\n",
              "\n",
              "    .colab-df-convert {\n",
              "      background-color: #E8F0FE;\n",
              "      border: none;\n",
              "      border-radius: 50%;\n",
              "      cursor: pointer;\n",
              "      display: none;\n",
              "      fill: #1967D2;\n",
              "      height: 32px;\n",
              "      padding: 0 0 0 0;\n",
              "      width: 32px;\n",
              "    }\n",
              "\n",
              "    .colab-df-convert:hover {\n",
              "      background-color: #E2EBFA;\n",
              "      box-shadow: 0px 1px 2px rgba(60, 64, 67, 0.3), 0px 1px 3px 1px rgba(60, 64, 67, 0.15);\n",
              "      fill: #174EA6;\n",
              "    }\n",
              "\n",
              "    [theme=dark] .colab-df-convert {\n",
              "      background-color: #3B4455;\n",
              "      fill: #D2E3FC;\n",
              "    }\n",
              "\n",
              "    [theme=dark] .colab-df-convert:hover {\n",
              "      background-color: #434B5C;\n",
              "      box-shadow: 0px 1px 3px 1px rgba(0, 0, 0, 0.15);\n",
              "      filter: drop-shadow(0px 1px 2px rgba(0, 0, 0, 0.3));\n",
              "      fill: #FFFFFF;\n",
              "    }\n",
              "  </style>\n",
              "\n",
              "      <script>\n",
              "        const buttonEl =\n",
              "          document.querySelector('#df-14b0a63a-714c-48ba-9a67-518a59b21db5 button.colab-df-convert');\n",
              "        buttonEl.style.display =\n",
              "          google.colab.kernel.accessAllowed ? 'block' : 'none';\n",
              "\n",
              "        async function convertToInteractive(key) {\n",
              "          const element = document.querySelector('#df-14b0a63a-714c-48ba-9a67-518a59b21db5');\n",
              "          const dataTable =\n",
              "            await google.colab.kernel.invokeFunction('convertToInteractive',\n",
              "                                                     [key], {});\n",
              "          if (!dataTable) return;\n",
              "\n",
              "          const docLinkHtml = 'Like what you see? Visit the ' +\n",
              "            '<a target=\"_blank\" href=https://colab.research.google.com/notebooks/data_table.ipynb>data table notebook</a>'\n",
              "            + ' to learn more about interactive tables.';\n",
              "          element.innerHTML = '';\n",
              "          dataTable['output_type'] = 'display_data';\n",
              "          await google.colab.output.renderOutput(dataTable, element);\n",
              "          const docLink = document.createElement('div');\n",
              "          docLink.innerHTML = docLinkHtml;\n",
              "          element.appendChild(docLink);\n",
              "        }\n",
              "      </script>\n",
              "    </div>\n",
              "  </div>\n",
              "  "
            ],
            "text/plain": [
              "            topic_1   topic_2  abs_topic_1  abs_topic_2\n",
              "lawyer     0.087621  0.478234     0.087621     0.478234\n",
              "time       0.250149 -0.348853     0.250149     0.348853\n",
              "firm       0.068533  0.232817     0.068533     0.232817\n",
              "law        0.050257  0.221758     0.050257     0.221758\n",
              "rm         0.175356 -0.199679     0.175356     0.199679\n",
              "veri       0.184425  0.195952     0.184425     0.195952\n",
              "underpaid  0.079781  0.143078     0.079781     0.143078\n",
              "especi     0.072281  0.140117     0.072281     0.140117\n",
              "client     0.069323  0.114884     0.069323     0.114884\n",
              "offer      0.095396 -0.113290     0.095396     0.113290\n",
              "practic    0.020741  0.107944     0.020741     0.107944\n",
              "field      0.060368  0.105735     0.060368     0.105735\n",
              "compar     0.051812  0.098831     0.051812     0.098831\n",
              "paid       0.103848  0.097153     0.103848     0.097153\n",
              "day        0.145593 -0.093089     0.145593     0.093089\n",
              "wage       0.061465 -0.091461     0.061465     0.091461\n",
              "general    0.027863  0.087660     0.027863     0.087660\n",
              "region     0.014851  0.085464     0.014851     0.085464\n",
              "better     0.113887 -0.084454     0.113887     0.084454\n",
              "bad        0.051413  0.082939     0.051413     0.082939"
            ]
          },
          "metadata": {},
          "execution_count": 39
        }
      ]
    },
    {
      "cell_type": "markdown",
      "source": [
        "We can see that most of the top 20 words for **Topic 2** are more close to describing dissatisfied work, such as \"underpaid\", \"bad\". Therefore, **Topic 2** refers to **'dissatisfied'**."
      ],
      "metadata": {
        "id": "84Elvca005mI"
      }
    },
    {
      "cell_type": "markdown",
      "source": [
        "# Label topic "
      ],
      "metadata": {
        "id": "0alb5yFSxVLE"
      }
    },
    {
      "cell_type": "code",
      "source": [
        "topic_encoded = topic_encoded.rename(columns={'topic_1': 'satisfied', 'topic_2': 'dissatisfied'})\n",
        "display(topic_encoded[[\"text\", \"satisfied\", \"dissatisfied\"]])"
      ],
      "metadata": {
        "colab": {
          "base_uri": "https://localhost:8080/",
          "height": 423
        },
        "id": "UzSKTCmcxlgZ",
        "outputId": "afb132b3-0826-453b-cff0-3443d173b78c"
      },
      "execution_count": 44,
      "outputs": [
        {
          "output_type": "display_data",
          "data": {
            "text/html": [
              "\n",
              "  <div id=\"df-953943b3-04e2-4388-a3f1-6506dbdc4d13\">\n",
              "    <div class=\"colab-df-container\">\n",
              "      <div>\n",
              "<style scoped>\n",
              "    .dataframe tbody tr th:only-of-type {\n",
              "        vertical-align: middle;\n",
              "    }\n",
              "\n",
              "    .dataframe tbody tr th {\n",
              "        vertical-align: top;\n",
              "    }\n",
              "\n",
              "    .dataframe thead th {\n",
              "        text-align: right;\n",
              "    }\n",
              "</style>\n",
              "<table border=\"1\" class=\"dataframe\">\n",
              "  <thead>\n",
              "    <tr style=\"text-align: right;\">\n",
              "      <th></th>\n",
              "      <th>text</th>\n",
              "      <th>satisfied</th>\n",
              "      <th>dissatisfied</th>\n",
              "    </tr>\n",
              "  </thead>\n",
              "  <tbody>\n",
              "    <tr>\n",
              "      <th>0</th>\n",
              "      <td>Behaviour Therapist (ABA Therapy) Workng w chi...</td>\n",
              "      <td>3.364208</td>\n",
              "      <td>0.343514</td>\n",
              "    </tr>\n",
              "    <tr>\n",
              "      <th>1</th>\n",
              "      <td>MALAYSIA'S MEDIAN SALARY LW 19 bY a bY BELOW T...</td>\n",
              "      <td>0.135947</td>\n",
              "      <td>-0.053438</td>\n",
              "    </tr>\n",
              "    <tr>\n",
              "      <th>2</th>\n",
              "      <td>Director 32 Male Chinese 9 years Bachelors 5-1...</td>\n",
              "      <td>2.165237</td>\n",
              "      <td>0.733433</td>\n",
              "    </tr>\n",
              "    <tr>\n",
              "      <th>3</th>\n",
              "      <td>IT (Healthcare / Cybersecurity) 45 Malay RM 60...</td>\n",
              "      <td>2.336879</td>\n",
              "      <td>-1.365057</td>\n",
              "    </tr>\n",
              "    <tr>\n",
              "      <th>4</th>\n",
              "      <td>PR/Marketing in NGO sector 28 Female Malay 6 y...</td>\n",
              "      <td>1.207181</td>\n",
              "      <td>0.355335</td>\n",
              "    </tr>\n",
              "    <tr>\n",
              "      <th>...</th>\n",
              "      <td>...</td>\n",
              "      <td>...</td>\n",
              "      <td>...</td>\n",
              "    </tr>\n",
              "    <tr>\n",
              "      <th>151</th>\n",
              "      <td>Lead data science, manager, industry data anal...</td>\n",
              "      <td>1.554612</td>\n",
              "      <td>-0.027796</td>\n",
              "    </tr>\n",
              "    <tr>\n",
              "      <th>152</th>\n",
              "      <td>2 P ~— = rR a. EN a €</td>\n",
              "      <td>0.008018</td>\n",
              "      <td>0.012404</td>\n",
              "    </tr>\n",
              "    <tr>\n",
              "      <th>153</th>\n",
              "      <td>Mobile Developer, Fintech MNC 22, East MY Bumi...</td>\n",
              "      <td>1.275746</td>\n",
              "      <td>0.102072</td>\n",
              "    </tr>\n",
              "    <tr>\n",
              "      <th>154</th>\n",
              "      <td>strange for someone who's \"supposed\" to be hol...</td>\n",
              "      <td>2.134513</td>\n",
              "      <td>0.067230</td>\n",
              "    </tr>\n",
              "    <tr>\n",
              "      <th>155</th>\n",
              "      <td>QUE IENAIEIN 8y4242)© submission was annoynmou...</td>\n",
              "      <td>2.125097</td>\n",
              "      <td>-0.353518</td>\n",
              "    </tr>\n",
              "  </tbody>\n",
              "</table>\n",
              "<p>156 rows × 3 columns</p>\n",
              "</div>\n",
              "      <button class=\"colab-df-convert\" onclick=\"convertToInteractive('df-953943b3-04e2-4388-a3f1-6506dbdc4d13')\"\n",
              "              title=\"Convert this dataframe to an interactive table.\"\n",
              "              style=\"display:none;\">\n",
              "        \n",
              "  <svg xmlns=\"http://www.w3.org/2000/svg\" height=\"24px\"viewBox=\"0 0 24 24\"\n",
              "       width=\"24px\">\n",
              "    <path d=\"M0 0h24v24H0V0z\" fill=\"none\"/>\n",
              "    <path d=\"M18.56 5.44l.94 2.06.94-2.06 2.06-.94-2.06-.94-.94-2.06-.94 2.06-2.06.94zm-11 1L8.5 8.5l.94-2.06 2.06-.94-2.06-.94L8.5 2.5l-.94 2.06-2.06.94zm10 10l.94 2.06.94-2.06 2.06-.94-2.06-.94-.94-2.06-.94 2.06-2.06.94z\"/><path d=\"M17.41 7.96l-1.37-1.37c-.4-.4-.92-.59-1.43-.59-.52 0-1.04.2-1.43.59L10.3 9.45l-7.72 7.72c-.78.78-.78 2.05 0 2.83L4 21.41c.39.39.9.59 1.41.59.51 0 1.02-.2 1.41-.59l7.78-7.78 2.81-2.81c.8-.78.8-2.07 0-2.86zM5.41 20L4 18.59l7.72-7.72 1.47 1.35L5.41 20z\"/>\n",
              "  </svg>\n",
              "      </button>\n",
              "      \n",
              "  <style>\n",
              "    .colab-df-container {\n",
              "      display:flex;\n",
              "      flex-wrap:wrap;\n",
              "      gap: 12px;\n",
              "    }\n",
              "\n",
              "    .colab-df-convert {\n",
              "      background-color: #E8F0FE;\n",
              "      border: none;\n",
              "      border-radius: 50%;\n",
              "      cursor: pointer;\n",
              "      display: none;\n",
              "      fill: #1967D2;\n",
              "      height: 32px;\n",
              "      padding: 0 0 0 0;\n",
              "      width: 32px;\n",
              "    }\n",
              "\n",
              "    .colab-df-convert:hover {\n",
              "      background-color: #E2EBFA;\n",
              "      box-shadow: 0px 1px 2px rgba(60, 64, 67, 0.3), 0px 1px 3px 1px rgba(60, 64, 67, 0.15);\n",
              "      fill: #174EA6;\n",
              "    }\n",
              "\n",
              "    [theme=dark] .colab-df-convert {\n",
              "      background-color: #3B4455;\n",
              "      fill: #D2E3FC;\n",
              "    }\n",
              "\n",
              "    [theme=dark] .colab-df-convert:hover {\n",
              "      background-color: #434B5C;\n",
              "      box-shadow: 0px 1px 3px 1px rgba(0, 0, 0, 0.15);\n",
              "      filter: drop-shadow(0px 1px 2px rgba(0, 0, 0, 0.3));\n",
              "      fill: #FFFFFF;\n",
              "    }\n",
              "  </style>\n",
              "\n",
              "      <script>\n",
              "        const buttonEl =\n",
              "          document.querySelector('#df-953943b3-04e2-4388-a3f1-6506dbdc4d13 button.colab-df-convert');\n",
              "        buttonEl.style.display =\n",
              "          google.colab.kernel.accessAllowed ? 'block' : 'none';\n",
              "\n",
              "        async function convertToInteractive(key) {\n",
              "          const element = document.querySelector('#df-953943b3-04e2-4388-a3f1-6506dbdc4d13');\n",
              "          const dataTable =\n",
              "            await google.colab.kernel.invokeFunction('convertToInteractive',\n",
              "                                                     [key], {});\n",
              "          if (!dataTable) return;\n",
              "\n",
              "          const docLinkHtml = 'Like what you see? Visit the ' +\n",
              "            '<a target=\"_blank\" href=https://colab.research.google.com/notebooks/data_table.ipynb>data table notebook</a>'\n",
              "            + ' to learn more about interactive tables.';\n",
              "          element.innerHTML = '';\n",
              "          dataTable['output_type'] = 'display_data';\n",
              "          await google.colab.output.renderOutput(dataTable, element);\n",
              "          const docLink = document.createElement('div');\n",
              "          docLink.innerHTML = docLinkHtml;\n",
              "          element.appendChild(docLink);\n",
              "        }\n",
              "      </script>\n",
              "    </div>\n",
              "  </div>\n",
              "  "
            ],
            "text/plain": [
              "                                                  text  satisfied  \\\n",
              "0    Behaviour Therapist (ABA Therapy) Workng w chi...   3.364208   \n",
              "1    MALAYSIA'S MEDIAN SALARY LW 19 bY a bY BELOW T...   0.135947   \n",
              "2    Director 32 Male Chinese 9 years Bachelors 5-1...   2.165237   \n",
              "3    IT (Healthcare / Cybersecurity) 45 Malay RM 60...   2.336879   \n",
              "4    PR/Marketing in NGO sector 28 Female Malay 6 y...   1.207181   \n",
              "..                                                 ...        ...   \n",
              "151  Lead data science, manager, industry data anal...   1.554612   \n",
              "152                              2 P ~— = rR a. EN a €   0.008018   \n",
              "153  Mobile Developer, Fintech MNC 22, East MY Bumi...   1.275746   \n",
              "154  strange for someone who's \"supposed\" to be hol...   2.134513   \n",
              "155  QUE IENAIEIN 8y4242)© submission was annoynmou...   2.125097   \n",
              "\n",
              "     dissatisfied  \n",
              "0        0.343514  \n",
              "1       -0.053438  \n",
              "2        0.733433  \n",
              "3       -1.365057  \n",
              "4        0.355335  \n",
              "..            ...  \n",
              "151     -0.027796  \n",
              "152      0.012404  \n",
              "153      0.102072  \n",
              "154      0.067230  \n",
              "155     -0.353518  \n",
              "\n",
              "[156 rows x 3 columns]"
            ]
          },
          "metadata": {}
        }
      ]
    },
    {
      "cell_type": "markdown",
      "source": [
        "## Topic Modelling"
      ],
      "metadata": {
        "id": "0q8Thd4I2pTL"
      }
    },
    {
      "cell_type": "code",
      "source": [
        "topic_encoded[\"dissatisfied\"] = np.abs(topic_encoded[\"dissatisfied\"])\n",
        "topic_encoded[\"satisfied\"] = np.abs(topic_encoded[\"satisfied\"])"
      ],
      "metadata": {
        "id": "9UdeA_h3hh2-"
      },
      "execution_count": 49,
      "outputs": []
    },
    {
      "cell_type": "code",
      "source": [
        "topic_encoded[\"label\"] = topic_encoded.apply(lambda row: 'satisfied' if row[\"satisfied\"] >= row[\"dissatisfied\"] else 'dissatisfied', axis=1)\n",
        "display(topic_encoded[[\"text\", \"satisfied\", \"dissatisfied\", \"label\"]])"
      ],
      "metadata": {
        "id": "YkTHtbl62to6",
        "colab": {
          "base_uri": "https://localhost:8080/",
          "height": 423
        },
        "outputId": "11212f3f-6d4f-4346-cf5b-f999f77afa24"
      },
      "execution_count": 50,
      "outputs": [
        {
          "output_type": "display_data",
          "data": {
            "text/html": [
              "\n",
              "  <div id=\"df-515e9b8f-85b0-4b63-950b-08e1d752814a\">\n",
              "    <div class=\"colab-df-container\">\n",
              "      <div>\n",
              "<style scoped>\n",
              "    .dataframe tbody tr th:only-of-type {\n",
              "        vertical-align: middle;\n",
              "    }\n",
              "\n",
              "    .dataframe tbody tr th {\n",
              "        vertical-align: top;\n",
              "    }\n",
              "\n",
              "    .dataframe thead th {\n",
              "        text-align: right;\n",
              "    }\n",
              "</style>\n",
              "<table border=\"1\" class=\"dataframe\">\n",
              "  <thead>\n",
              "    <tr style=\"text-align: right;\">\n",
              "      <th></th>\n",
              "      <th>text</th>\n",
              "      <th>satisfied</th>\n",
              "      <th>dissatisfied</th>\n",
              "      <th>label</th>\n",
              "    </tr>\n",
              "  </thead>\n",
              "  <tbody>\n",
              "    <tr>\n",
              "      <th>0</th>\n",
              "      <td>Behaviour Therapist (ABA Therapy) Workng w chi...</td>\n",
              "      <td>3.364208</td>\n",
              "      <td>0.343514</td>\n",
              "      <td>satisfied</td>\n",
              "    </tr>\n",
              "    <tr>\n",
              "      <th>1</th>\n",
              "      <td>MALAYSIA'S MEDIAN SALARY LW 19 bY a bY BELOW T...</td>\n",
              "      <td>0.135947</td>\n",
              "      <td>0.053438</td>\n",
              "      <td>satisfied</td>\n",
              "    </tr>\n",
              "    <tr>\n",
              "      <th>2</th>\n",
              "      <td>Director 32 Male Chinese 9 years Bachelors 5-1...</td>\n",
              "      <td>2.165237</td>\n",
              "      <td>0.733433</td>\n",
              "      <td>satisfied</td>\n",
              "    </tr>\n",
              "    <tr>\n",
              "      <th>3</th>\n",
              "      <td>IT (Healthcare / Cybersecurity) 45 Malay RM 60...</td>\n",
              "      <td>2.336879</td>\n",
              "      <td>1.365057</td>\n",
              "      <td>satisfied</td>\n",
              "    </tr>\n",
              "    <tr>\n",
              "      <th>4</th>\n",
              "      <td>PR/Marketing in NGO sector 28 Female Malay 6 y...</td>\n",
              "      <td>1.207181</td>\n",
              "      <td>0.355335</td>\n",
              "      <td>satisfied</td>\n",
              "    </tr>\n",
              "    <tr>\n",
              "      <th>...</th>\n",
              "      <td>...</td>\n",
              "      <td>...</td>\n",
              "      <td>...</td>\n",
              "      <td>...</td>\n",
              "    </tr>\n",
              "    <tr>\n",
              "      <th>151</th>\n",
              "      <td>Lead data science, manager, industry data anal...</td>\n",
              "      <td>1.554612</td>\n",
              "      <td>0.027796</td>\n",
              "      <td>satisfied</td>\n",
              "    </tr>\n",
              "    <tr>\n",
              "      <th>152</th>\n",
              "      <td>2 P ~— = rR a. EN a €</td>\n",
              "      <td>0.008018</td>\n",
              "      <td>0.012404</td>\n",
              "      <td>dissatisfied</td>\n",
              "    </tr>\n",
              "    <tr>\n",
              "      <th>153</th>\n",
              "      <td>Mobile Developer, Fintech MNC 22, East MY Bumi...</td>\n",
              "      <td>1.275746</td>\n",
              "      <td>0.102072</td>\n",
              "      <td>satisfied</td>\n",
              "    </tr>\n",
              "    <tr>\n",
              "      <th>154</th>\n",
              "      <td>strange for someone who's \"supposed\" to be hol...</td>\n",
              "      <td>2.134513</td>\n",
              "      <td>0.067230</td>\n",
              "      <td>satisfied</td>\n",
              "    </tr>\n",
              "    <tr>\n",
              "      <th>155</th>\n",
              "      <td>QUE IENAIEIN 8y4242)© submission was annoynmou...</td>\n",
              "      <td>2.125097</td>\n",
              "      <td>0.353518</td>\n",
              "      <td>satisfied</td>\n",
              "    </tr>\n",
              "  </tbody>\n",
              "</table>\n",
              "<p>156 rows × 4 columns</p>\n",
              "</div>\n",
              "      <button class=\"colab-df-convert\" onclick=\"convertToInteractive('df-515e9b8f-85b0-4b63-950b-08e1d752814a')\"\n",
              "              title=\"Convert this dataframe to an interactive table.\"\n",
              "              style=\"display:none;\">\n",
              "        \n",
              "  <svg xmlns=\"http://www.w3.org/2000/svg\" height=\"24px\"viewBox=\"0 0 24 24\"\n",
              "       width=\"24px\">\n",
              "    <path d=\"M0 0h24v24H0V0z\" fill=\"none\"/>\n",
              "    <path d=\"M18.56 5.44l.94 2.06.94-2.06 2.06-.94-2.06-.94-.94-2.06-.94 2.06-2.06.94zm-11 1L8.5 8.5l.94-2.06 2.06-.94-2.06-.94L8.5 2.5l-.94 2.06-2.06.94zm10 10l.94 2.06.94-2.06 2.06-.94-2.06-.94-.94-2.06-.94 2.06-2.06.94z\"/><path d=\"M17.41 7.96l-1.37-1.37c-.4-.4-.92-.59-1.43-.59-.52 0-1.04.2-1.43.59L10.3 9.45l-7.72 7.72c-.78.78-.78 2.05 0 2.83L4 21.41c.39.39.9.59 1.41.59.51 0 1.02-.2 1.41-.59l7.78-7.78 2.81-2.81c.8-.78.8-2.07 0-2.86zM5.41 20L4 18.59l7.72-7.72 1.47 1.35L5.41 20z\"/>\n",
              "  </svg>\n",
              "      </button>\n",
              "      \n",
              "  <style>\n",
              "    .colab-df-container {\n",
              "      display:flex;\n",
              "      flex-wrap:wrap;\n",
              "      gap: 12px;\n",
              "    }\n",
              "\n",
              "    .colab-df-convert {\n",
              "      background-color: #E8F0FE;\n",
              "      border: none;\n",
              "      border-radius: 50%;\n",
              "      cursor: pointer;\n",
              "      display: none;\n",
              "      fill: #1967D2;\n",
              "      height: 32px;\n",
              "      padding: 0 0 0 0;\n",
              "      width: 32px;\n",
              "    }\n",
              "\n",
              "    .colab-df-convert:hover {\n",
              "      background-color: #E2EBFA;\n",
              "      box-shadow: 0px 1px 2px rgba(60, 64, 67, 0.3), 0px 1px 3px 1px rgba(60, 64, 67, 0.15);\n",
              "      fill: #174EA6;\n",
              "    }\n",
              "\n",
              "    [theme=dark] .colab-df-convert {\n",
              "      background-color: #3B4455;\n",
              "      fill: #D2E3FC;\n",
              "    }\n",
              "\n",
              "    [theme=dark] .colab-df-convert:hover {\n",
              "      background-color: #434B5C;\n",
              "      box-shadow: 0px 1px 3px 1px rgba(0, 0, 0, 0.15);\n",
              "      filter: drop-shadow(0px 1px 2px rgba(0, 0, 0, 0.3));\n",
              "      fill: #FFFFFF;\n",
              "    }\n",
              "  </style>\n",
              "\n",
              "      <script>\n",
              "        const buttonEl =\n",
              "          document.querySelector('#df-515e9b8f-85b0-4b63-950b-08e1d752814a button.colab-df-convert');\n",
              "        buttonEl.style.display =\n",
              "          google.colab.kernel.accessAllowed ? 'block' : 'none';\n",
              "\n",
              "        async function convertToInteractive(key) {\n",
              "          const element = document.querySelector('#df-515e9b8f-85b0-4b63-950b-08e1d752814a');\n",
              "          const dataTable =\n",
              "            await google.colab.kernel.invokeFunction('convertToInteractive',\n",
              "                                                     [key], {});\n",
              "          if (!dataTable) return;\n",
              "\n",
              "          const docLinkHtml = 'Like what you see? Visit the ' +\n",
              "            '<a target=\"_blank\" href=https://colab.research.google.com/notebooks/data_table.ipynb>data table notebook</a>'\n",
              "            + ' to learn more about interactive tables.';\n",
              "          element.innerHTML = '';\n",
              "          dataTable['output_type'] = 'display_data';\n",
              "          await google.colab.output.renderOutput(dataTable, element);\n",
              "          const docLink = document.createElement('div');\n",
              "          docLink.innerHTML = docLinkHtml;\n",
              "          element.appendChild(docLink);\n",
              "        }\n",
              "      </script>\n",
              "    </div>\n",
              "  </div>\n",
              "  "
            ],
            "text/plain": [
              "                                                  text  satisfied  \\\n",
              "0    Behaviour Therapist (ABA Therapy) Workng w chi...   3.364208   \n",
              "1    MALAYSIA'S MEDIAN SALARY LW 19 bY a bY BELOW T...   0.135947   \n",
              "2    Director 32 Male Chinese 9 years Bachelors 5-1...   2.165237   \n",
              "3    IT (Healthcare / Cybersecurity) 45 Malay RM 60...   2.336879   \n",
              "4    PR/Marketing in NGO sector 28 Female Malay 6 y...   1.207181   \n",
              "..                                                 ...        ...   \n",
              "151  Lead data science, manager, industry data anal...   1.554612   \n",
              "152                              2 P ~— = rR a. EN a €   0.008018   \n",
              "153  Mobile Developer, Fintech MNC 22, East MY Bumi...   1.275746   \n",
              "154  strange for someone who's \"supposed\" to be hol...   2.134513   \n",
              "155  QUE IENAIEIN 8y4242)© submission was annoynmou...   2.125097   \n",
              "\n",
              "     dissatisfied         label  \n",
              "0        0.343514     satisfied  \n",
              "1        0.053438     satisfied  \n",
              "2        0.733433     satisfied  \n",
              "3        1.365057     satisfied  \n",
              "4        0.355335     satisfied  \n",
              "..            ...           ...  \n",
              "151      0.027796     satisfied  \n",
              "152      0.012404  dissatisfied  \n",
              "153      0.102072     satisfied  \n",
              "154      0.067230     satisfied  \n",
              "155      0.353518     satisfied  \n",
              "\n",
              "[156 rows x 4 columns]"
            ]
          },
          "metadata": {}
        }
      ]
    },
    {
      "cell_type": "code",
      "source": [
        "topic_encoded['label'].value_counts()"
      ],
      "metadata": {
        "colab": {
          "base_uri": "https://localhost:8080/"
        },
        "id": "-9NNSasOhAK5",
        "outputId": "9c670ed4-16de-462f-9df0-98479046e431"
      },
      "execution_count": 51,
      "outputs": [
        {
          "output_type": "execute_result",
          "data": {
            "text/plain": [
              "satisfied       152\n",
              "dissatisfied      4\n",
              "Name: label, dtype: int64"
            ]
          },
          "metadata": {},
          "execution_count": 51
        }
      ]
    },
    {
      "cell_type": "code",
      "source": [
        "topic_encoded['text'][152]"
      ],
      "metadata": {
        "colab": {
          "base_uri": "https://localhost:8080/",
          "height": 39
        },
        "id": "H5boh8g2i5QN",
        "outputId": "c5553b45-d5f0-4d29-b7a5-6e04cc4456b3"
      },
      "execution_count": 53,
      "outputs": [
        {
          "output_type": "execute_result",
          "data": {
            "application/vnd.google.colaboratory.intrinsic+json": {
              "type": "string"
            },
            "text/plain": [
              "'2 P ~— = rR a. EN a €'"
            ]
          },
          "metadata": {},
          "execution_count": 53
        }
      ]
    }
  ]
}